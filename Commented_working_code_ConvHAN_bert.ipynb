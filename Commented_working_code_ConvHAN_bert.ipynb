{
  "nbformat": 4,
  "nbformat_minor": 0,
  "metadata": {
    "colab": {
      "name": "Commented working code - ConvHAN bert",
      "provenance": [],
      "collapsed_sections": []
    },
    "kernelspec": {
      "name": "python3",
      "display_name": "Python 3"
    },
    "accelerator": "TPU"
  },
  "cells": [
    {
      "cell_type": "code",
      "metadata": {
        "id": "wpgIO9DUcNrq",
        "colab_type": "code",
        "colab": {}
      },
      "source": [
        "%tensorflow_version 2.x\n",
        "# from tqdm import tqdm"
      ],
      "execution_count": null,
      "outputs": []
    },
    {
      "cell_type": "code",
      "metadata": {
        "id": "0j91fGXZcaJq",
        "colab_type": "code",
        "colab": {
          "base_uri": "https://localhost:8080/",
          "height": 151
        },
        "outputId": "3229f6bc-379c-4b8d-e2ff-bcb34643ee46"
      },
      "source": [
        "!wget https://www.cs.ucsb.edu/~william/data/liar_dataset.zip -q --show-progress\n",
        "!unzip 'liar_dataset.zip' -d LIAR_dataset\n",
        "!wget https://raw.githubusercontent.com/saurav9878/Fake-News-Detection/master/Clean_Texts.py -q --show-progress\n",
        "!wget https://raw.githubusercontent.com/saurav9878/Fake-News-Detection/master/AttentionLayer.py -q --show-progress\n",
        "!mkdir plots"
      ],
      "execution_count": null,
      "outputs": [
        {
          "output_type": "stream",
          "text": [
            "\rliar_dataset.zip      0%[                    ]       0  --.-KB/s               \rliar_dataset.zip     12%[=>                  ] 120.00K   551KB/s               \rliar_dataset.zip     42%[=======>            ] 424.00K   978KB/s               \rliar_dataset.zip    100%[===================>] 989.82K  1.58MB/s    in 0.6s    \n",
            "Archive:  liar_dataset.zip\n",
            "  inflating: LIAR_dataset/README     \n",
            "  inflating: LIAR_dataset/test.tsv   \n",
            "  inflating: LIAR_dataset/train.tsv  \n",
            "  inflating: LIAR_dataset/valid.tsv  \n",
            "Clean_Texts.py      100%[===================>]   2.37K  --.-KB/s    in 0s      \n",
            "AttentionLayer.py   100%[===================>]   1.56K  --.-KB/s    in 0s      \n"
          ],
          "name": "stdout"
        }
      ]
    },
    {
      "cell_type": "code",
      "metadata": {
        "id": "pVCZxBYkca8W",
        "colab_type": "code",
        "colab": {
          "base_uri": "https://localhost:8080/",
          "height": 34
        },
        "outputId": "51e6fabf-2084-4682-ec6c-adc99ab4ec40"
      },
      "source": [
        "import numpy as np\n",
        "import pandas as pd\n",
        "import pickle\n",
        "from collections import defaultdict\n",
        "import re\n",
        "import sys\n",
        "import os\n",
        "from keras.preprocessing.text import Tokenizer, text_to_word_sequence\n",
        "from keras.preprocessing.sequence import pad_sequences\n",
        "from keras.utils.np_utils import to_categorical\n",
        "\n",
        "from keras.layers import Embedding\n",
        "from keras.layers import Dense, Input, Flatten\n",
        "from keras.layers import Conv1D, MaxPooling1D, Embedding, Dropout, LSTM, GRU, Bidirectional, TimeDistributed\n",
        "from keras.models import Model\n",
        "\n",
        "from keras import backend as K\n",
        "from keras.engine.topology import Layer, InputSpec\n",
        "from keras import initializers\n",
        "#from keras.layers import Merge\n",
        "#replaced by\n",
        "from keras.layers import add\n",
        "\n",
        "# NLTK import, download\n",
        "import nltk\n",
        "from nltk import tokenize # used only for splitting data into words, sentences\n",
        "nltk.download(['punkt', 'stopwords'], quiet=True)\n",
        "\n",
        "from matplotlib import pyplot as plt"
      ],
      "execution_count": null,
      "outputs": [
        {
          "output_type": "stream",
          "text": [
            "Using TensorFlow backend.\n"
          ],
          "name": "stderr"
        }
      ]
    },
    {
      "cell_type": "code",
      "metadata": {
        "id": "vy20FakIcmAg",
        "colab_type": "code",
        "colab": {}
      },
      "source": [
        "#import my modules\n",
        "from Clean_Texts import clean_text\n",
        "from AttentionLayer import AttLayer"
      ],
      "execution_count": null,
      "outputs": []
    },
    {
      "cell_type": "code",
      "metadata": {
        "id": "7CH4eH0BcoZd",
        "colab_type": "code",
        "colab": {}
      },
      "source": [
        "def read_data(filename):\n",
        "    df = pd.read_csv(filename,engine='python', delimiter=r'\\t+', names=['id', 'Label','Statement', 'subject', 'speaker','speaker_title','state', 'party','barely_true','false_counts','half_true','mostly_true','pants_on_fire','context'])\n",
        "    labels=[]\n",
        "    for l in df['Label']:\n",
        "        if l in ['false','barely-true','pants-fire']:\n",
        "            labels.append(1)\n",
        "        elif l in ['half-true','mostly-true', 'true']:\n",
        "            labels.append(0)\n",
        "        else:\n",
        "            raise Exception(\"Error encountered in labelling\")\n",
        "    data = pd.concat([df['Statement'], pd.Series(labels)], axis=1)\n",
        "    data.columns = ['Statement', 'Label']\n",
        "    return data"
      ],
      "execution_count": null,
      "outputs": []
    },
    {
      "cell_type": "code",
      "metadata": {
        "id": "N8gz-x5Gcq9v",
        "colab_type": "code",
        "colab": {}
      },
      "source": [
        "data_train = read_data('LIAR_dataset/train.tsv')\n",
        "data_test = read_data('LIAR_dataset/test.tsv')\n",
        "# data_valid = read_data('LIAR_dataset/valid.tsv') # not using currently valid tsv\n",
        "\n",
        "train_labels = np.asarray(data_train['Label'])\n",
        "test_labels = np.asarray(data_test['Label'])"
      ],
      "execution_count": null,
      "outputs": []
    },
    {
      "cell_type": "code",
      "metadata": {
        "id": "nrubb3QqczMn",
        "colab_type": "code",
        "colab": {
          "base_uri": "https://localhost:8080/",
          "height": 513
        },
        "outputId": "f90a70e3-6cbb-4f98-fcb4-b02c4a3257c0"
      },
      "source": [
        "y_tr = [sum(train_labels), len(train_labels) - sum(train_labels)]\n",
        "x_tr = [\"Fake\", \"Not Fake\"]\n",
        "plt.figure(figsize=(8,8))\n",
        "plt.bar(x_tr,y_tr)\n",
        "for i in range(2):\n",
        "    plt.text(x_tr[i], y_tr[i]+60, str(y_tr[i]),ha='center', color='blue', fontsize=18)\n",
        "plt.ylim(top=6200)\n",
        "plt.xlabel('Class')\n",
        "plt.ylabel('No. of samples')\n",
        "plt.title('Training class distribution')\n",
        "plt.rcParams.update({'font.size': 21})\n",
        "plt.savefig('plots/train_class_dist.png')"
      ],
      "execution_count": null,
      "outputs": [
        {
          "output_type": "display_data",
          "data": {
            "image/png": "[encoded data removed]",
            "text/plain": [
              "<Figure size 576x576 with 1 Axes>"
            ]
          },
          "metadata": {
            "tags": [],
            "needs_background": "light"
          }
        }
      ]
    },
    {
      "cell_type": "code",
      "metadata": {
        "id": "0MZJnHcTc3YP",
        "colab_type": "code",
        "colab": {
          "base_uri": "https://localhost:8080/",
          "height": 542
        },
        "outputId": "6729f1fa-4fa2-49e6-abc5-e80727095c98"
      },
      "source": [
        "y_tr = [sum(test_labels), len(test_labels) - sum(test_labels)]\n",
        "x_tr = [\"Fake\", \"Not Fake\"]\n",
        "plt.figure(figsize=(8,8))\n",
        "plt.bar(x_tr,y_tr)\n",
        "for i in range(2):\n",
        "    plt.text(x_tr[i], y_tr[i]+30, str(y_tr[i]),ha='center', color='blue', fontsize=18)\n",
        "plt.ylim(top=800)\n",
        "plt.xlabel('Class')\n",
        "plt.ylabel('No. of samples')\n",
        "plt.title('Test class distribution')\n",
        "plt.rcParams.update({'font.size': 18})\n",
        "plt.savefig('plots/test_class_dist.png')"
      ],
      "execution_count": null,
      "outputs": [
        {
          "output_type": "display_data",
          "data": {
            "image/png": "[encoded data removed]",
            "text/plain": [
              "<Figure size 576x576 with 1 Axes>"
            ]
          },
          "metadata": {
            "tags": [],
            "needs_background": "light"
          }
        }
      ]
    },
    {
      "cell_type": "code",
      "metadata": {
        "id": "SxyQPmTrc5jf",
        "colab_type": "code",
        "colab": {
          "base_uri": "https://localhost:8080/",
          "height": 121
        },
        "outputId": "4ba4897d-4253-4188-91b5-8a5e63e7e002"
      },
      "source": [
        "# ! pip install transformers\n",
        "import transformers\n",
        "dbert_tokenizer = transformers.DistilBertTokenizer.from_pretrained('distilbert-base-uncased',)\n",
        "dbert_model = transformers.TFDistilBertModel.from_pretrained('distilbert-base-uncased')"
      ],
      "execution_count": null,
      "outputs": [
        {
          "output_type": "stream",
          "text": [
            "Some weights of the model checkpoint at distilbert-base-uncased were not used when initializing TFDistilBertModel: ['vocab_layer_norm', 'activation_13', 'vocab_projector', 'vocab_transform']\n",
            "- This IS expected if you are initializing TFDistilBertModel from the checkpoint of a model trained on another task or with another architecture (e.g. initializing a BertForSequenceClassification model from a BertForPretraining model).\n",
            "- This IS NOT expected if you are initializing TFDistilBertModel from the checkpoint of a model that you expect to be exactly identical (initializing a BertForSequenceClassification model from a BertForSequenceClassification model).\n",
            "All the weights of TFDistilBertModel were initialized from the model checkpoint at distilbert-base-uncased.\n",
            "If your task is similar to the task the model of the ckeckpoint was trained on, you can already use TFDistilBertModel for predictions without further training.\n"
          ],
          "name": "stderr"
        }
      ]
    },
    {
      "cell_type": "code",
      "metadata": {
        "id": "gOGFSA8v5iQG",
        "colab_type": "code",
        "colab": {}
      },
      "source": [
        "small_train = data_train.Statement.iloc[:10]\n",
        "train_tokenized = small_train.apply((lambda x: dbert_tokenizer.encode(x, add_special_tokens=True, max_length=128, padding='max_length')))"
      ],
      "execution_count": null,
      "outputs": []
    },
    {
      "cell_type": "code",
      "metadata": {
        "id": "bMUd33tn9oXe",
        "colab_type": "code",
        "colab": {
          "base_uri": "https://localhost:8080/",
          "height": 34
        },
        "outputId": "b3e57cb9-f979-4fe8-ad1b-c4fe8ce80e70"
      },
      "source": [
        "input_tokens=[]\n",
        "for x in train_tokenized:\n",
        "    input_tokens.append(x)\n",
        "\n",
        "input_tokens = np.asarray(input_tokens)\n",
        "input_tokens.shape"
      ],
      "execution_count": null,
      "outputs": [
        {
          "output_type": "execute_result",
          "data": {
            "text/plain": [
              "(10, 128)"
            ]
          },
          "metadata": {
            "tags": []
          },
          "execution_count": 69
        }
      ]
    },
    {
      "cell_type": "code",
      "metadata": {
        "id": "atu9lo54B6EE",
        "colab_type": "code",
        "colab": {}
      },
      "source": [
        "output_tokens = dbert_model(input_tokens)"
      ],
      "execution_count": null,
      "outputs": []
    },
    {
      "cell_type": "code",
      "metadata": {
        "id": "FZ8vu3yoHwTB",
        "colab_type": "code",
        "colab": {
          "base_uri": "https://localhost:8080/",
          "height": 162
        },
        "outputId": "714651de-5205-4c79-bb1a-70eee27b2f75"
      },
      "source": [
        "output_tokens.shape"
      ],
      "execution_count": null,
      "outputs": [
        {
          "output_type": "error",
          "ename": "AttributeError",
          "evalue": "ignored",
          "traceback": [
            "\u001b[0;31m---------------------------------------------------------------------------\u001b[0m",
            "\u001b[0;31mAttributeError\u001b[0m                            Traceback (most recent call last)",
            "\u001b[0;32m<ipython-input-133-9f55e56ed037>\u001b[0m in \u001b[0;36m<module>\u001b[0;34m()\u001b[0m\n\u001b[0;32m----> 1\u001b[0;31m \u001b[0moutput_tokens\u001b[0m\u001b[0;34m.\u001b[0m\u001b[0mshape\u001b[0m\u001b[0;34m\u001b[0m\u001b[0;34m\u001b[0m\u001b[0m\n\u001b[0m",
            "\u001b[0;31mAttributeError\u001b[0m: 'tuple' object has no attribute 'shape'"
          ]
        }
      ]
    },
    {
      "cell_type": "code",
      "metadata": {
        "id": "rx8kv_LpdKpd",
        "colab_type": "code",
        "colab": {}
      },
      "source": [
        "# from transformers import pipeline\n",
        "# feature_pipeline = pipeline('feature-extraction', model=dbert_model, tokenizer=dbert_tokenizer(max_length=20, add_special_tokens=True,padding='max-length'), framework='tf')"
      ],
      "execution_count": null,
      "outputs": []
    },
    {
      "cell_type": "code",
      "metadata": {
        "id": "9mQpsdJ6qbBg",
        "colab_type": "code",
        "colab": {}
      },
      "source": [
        "# import numpy as np\n",
        "# np.asarray(feature_pipeline('Hello World', max_length =2)).shape"
      ],
      "execution_count": null,
      "outputs": []
    },
    {
      "cell_type": "code",
      "metadata": {
        "id": "M5xBS-EoFaGE",
        "colab_type": "code",
        "colab": {}
      },
      "source": [
        "# feature_extracted = feature_pipeline(list(data_train.Statement)[:10])"
      ],
      "execution_count": null,
      "outputs": []
    },
    {
      "cell_type": "code",
      "metadata": {
        "id": "kKQpR3GPzx5b",
        "colab_type": "code",
        "colab": {}
      },
      "source": [
        "test_tokenized = data_test.Statement.apply((lambda x: dbert_tokenizer.encode(x, add_special_tokens=True, max_length=128, padding='max_length')))\n",
        "input_test_tokens=[]\n",
        "for x in test_tokenized:\n",
        "    input_test_tokens.append(x)\n",
        "\n",
        "input_test_tokens = np.asarray(input_test_tokens)\n",
        "\n",
        "test_features = dbert_model(input_test_tokens)"
      ],
      "execution_count": null,
      "outputs": []
    },
    {
      "cell_type": "code",
      "metadata": {
        "id": "zdZ0AHRu0yfi",
        "colab_type": "code",
        "colab": {}
      },
      "source": [
        "test_features = np.asarray(test_features)\n"
      ],
      "execution_count": null,
      "outputs": []
    },
    {
      "cell_type": "code",
      "metadata": {
        "id": "gVi6q30kfVsE",
        "colab_type": "code",
        "colab": {
          "base_uri": "https://localhost:8080/",
          "height": 34
        },
        "outputId": "5c72996b-71a9-4713-afa5-847b4b5b891b"
      },
      "source": [
        "features_array = np.asarray(feature_extracted)\n",
        "features_array.shape # (Samples, Tokens, Vector Size)"
      ],
      "execution_count": null,
      "outputs": [
        {
          "output_type": "execute_result",
          "data": {
            "text/plain": [
              "(10, 39, 768)"
            ]
          },
          "metadata": {
            "tags": []
          },
          "execution_count": 60
        }
      ]
    },
    {
      "cell_type": "code",
      "metadata": {
        "id": "ZR4TepleqUix",
        "colab_type": "code",
        "colab": {}
      },
      "source": [
        "MAX_TOKENS = 128"
      ],
      "execution_count": null,
      "outputs": []
    },
    {
      "cell_type": "code",
      "metadata": {
        "id": "fTOWI5dfo9ns",
        "colab_type": "code",
        "colab": {}
      },
      "source": [
        "# features = np.squeeze(features_array)\n",
        "# features = features[:,0,:]\n",
        "# features.shape"
      ],
      "execution_count": null,
      "outputs": []
    },
    {
      "cell_type": "code",
      "metadata": {
        "id": "6c1-7VImFpbd",
        "colab_type": "code",
        "colab": {}
      },
      "source": [
        "import tensorflow as tf"
      ],
      "execution_count": null,
      "outputs": []
    },
    {
      "cell_type": "code",
      "metadata": {
        "id": "Uc9eTsdkyNFd",
        "colab_type": "code",
        "colab": {}
      },
      "source": [
        "labels = train_labels[:10]\n",
        "labels = labels.reshape(-1,1)\n",
        "data = output_tokens"
      ],
      "execution_count": null,
      "outputs": []
    },
    {
      "cell_type": "code",
      "metadata": {
        "id": "TriCo52AFeeK",
        "colab_type": "code",
        "colab": {
          "base_uri": "https://localhost:8080/",
          "height": 34
        },
        "outputId": "dbb4c0c4-5a0b-45e2-9285-343ef0bf16fe"
      },
      "source": [
        "test_labels"
      ],
      "execution_count": null,
      "outputs": [
        {
          "output_type": "execute_result",
          "data": {
            "text/plain": [
              "array([0, 1, 1, ..., 1, 1, 1])"
            ]
          },
          "metadata": {
            "tags": []
          },
          "execution_count": 162
        }
      ]
    },
    {
      "cell_type": "code",
      "metadata": {
        "id": "F4kIJqC2ycWF",
        "colab_type": "code",
        "colab": {}
      },
      "source": [
        "VALIDATION_SPLIT=0.2"
      ],
      "execution_count": null,
      "outputs": []
    },
    {
      "cell_type": "code",
      "metadata": {
        "id": "yoOPcBoOIHOy",
        "colab_type": "code",
        "colab": {
          "base_uri": "https://localhost:8080/",
          "height": 1000
        },
        "outputId": "3d84a307-71d6-4142-bce9-8f32f14b42cc"
      },
      "source": [
        "data[0].numpy()"
      ],
      "execution_count": null,
      "outputs": [
        {
          "output_type": "execute_result",
          "data": {
            "text/plain": [
              "array([[[ 0.22226833, -0.31437734,  0.24113639, ..., -0.00480534,\n",
              "          0.6010438 , -0.10481428],\n",
              "        [ 0.02030095,  0.19371276,  0.42124563, ..., -0.0740913 ,\n",
              "          0.12858337, -0.32375836],\n",
              "        [-0.5301106 , -0.17019545,  0.01300799, ...,  0.12206502,\n",
              "          0.50405145, -0.36402282],\n",
              "        ...,\n",
              "        [ 0.7547754 , -0.11936335,  0.62505776, ..., -0.17448005,\n",
              "          0.44121945, -0.24639218],\n",
              "        [ 0.76379913, -0.11564641,  0.63993233, ..., -0.17067736,\n",
              "          0.4385281 , -0.32272103],\n",
              "        [ 0.7765223 , -0.13505608,  0.58175206, ..., -0.16163233,\n",
              "          0.44357356, -0.37658492]],\n",
              "\n",
              "       [[ 0.00865666, -0.24939358,  0.14415844, ...,  0.03816395,\n",
              "          0.5942589 , -0.02954666],\n",
              "        [-0.7563773 ,  0.00731454,  0.42165786, ..., -0.15993744,\n",
              "         -0.18487403, -0.22828689],\n",
              "        [-0.14651403, -0.44060132,  0.0674536 , ..., -0.4292241 ,\n",
              "          0.26770532, -0.4543556 ],\n",
              "        ...,\n",
              "        [ 0.6876758 , -0.12860401,  0.6669642 , ..., -0.182949  ,\n",
              "          0.4272737 , -0.19162938],\n",
              "        [ 0.6860477 , -0.13486293,  0.6872139 , ..., -0.18006542,\n",
              "          0.4197812 , -0.27804983],\n",
              "        [ 0.73958915, -0.14293437,  0.67952377, ..., -0.16096142,\n",
              "          0.40288523, -0.36570296]],\n",
              "\n",
              "       [[ 0.09738341, -0.2445428 ,  0.15616864, ...,  0.02022048,\n",
              "          0.68126684, -0.04244326],\n",
              "        [-0.26640558, -0.01031922,  0.24254633, ..., -0.42368263,\n",
              "         -0.2272636 ,  0.23788992],\n",
              "        [-0.3181576 ,  0.13318917, -0.36732927, ..., -0.46166483,\n",
              "          0.46605963,  0.26096556],\n",
              "        ...,\n",
              "        [ 0.673856  , -0.14839156,  0.6103512 , ..., -0.16849391,\n",
              "          0.40415126, -0.20965125],\n",
              "        [ 0.686061  , -0.14813988,  0.62531877, ..., -0.1604071 ,\n",
              "          0.39540878, -0.29774937],\n",
              "        [ 0.7324715 , -0.18231572,  0.532211  , ..., -0.15072834,\n",
              "          0.3948293 , -0.4179389 ]],\n",
              "\n",
              "       ...,\n",
              "\n",
              "       [[ 0.08641188, -0.26935235,  0.18984294, ...,  0.00477883,\n",
              "          0.47426206,  0.00636328],\n",
              "        [-0.21214828, -0.11039011,  0.4472774 , ...,  0.24181546,\n",
              "          0.39925364, -0.38339514],\n",
              "        [-0.13030648,  0.08795354,  0.25021422, ..., -0.09458347,\n",
              "          0.15901563,  0.44131178],\n",
              "        ...,\n",
              "        [ 0.6301722 , -0.13516943,  0.6802008 , ..., -0.18803129,\n",
              "          0.3781699 , -0.16699159],\n",
              "        [ 0.6347795 , -0.14161915,  0.70312834, ..., -0.17860654,\n",
              "          0.3713643 , -0.2687517 ],\n",
              "        [ 0.69240147, -0.15366651,  0.69104195, ..., -0.16122237,\n",
              "          0.34864902, -0.35323966]],\n",
              "\n",
              "       [[ 0.04926759, -0.3772179 ,  0.21692935, ...,  0.1525432 ,\n",
              "          0.5989079 ,  0.08173969],\n",
              "        [-0.47757503,  0.03776635,  0.3771015 , ...,  0.24329555,\n",
              "          0.13615549,  0.3583188 ],\n",
              "        [ 0.08146578,  0.26448736,  0.18639344, ..., -0.11006419,\n",
              "         -0.40026826, -0.24314098],\n",
              "        ...,\n",
              "        [ 0.6477888 , -0.16105705,  0.7005801 , ..., -0.15458807,\n",
              "          0.41000527, -0.2188612 ],\n",
              "        [ 0.6445254 , -0.16765438,  0.72462296, ..., -0.15213071,\n",
              "          0.40143982, -0.3102806 ],\n",
              "        [ 0.70055556, -0.17692414,  0.7227901 , ..., -0.13838725,\n",
              "          0.38450584, -0.39854398]],\n",
              "\n",
              "       [[ 0.0921312 , -0.35929203,  0.24034603, ...,  0.06992545,\n",
              "          0.5809105 ,  0.00691031],\n",
              "        [-0.19405386,  0.02210063,  0.24306387, ...,  0.03337608,\n",
              "          0.07182711, -0.51702803],\n",
              "        [-0.9701219 , -1.2860514 ,  0.28149918, ...,  0.10858631,\n",
              "          0.24660236,  0.33407077],\n",
              "        ...,\n",
              "        [ 0.65270543, -0.1259114 ,  0.6787461 , ..., -0.13528405,\n",
              "          0.41781092, -0.19769675],\n",
              "        [ 0.6592256 , -0.12922098,  0.701658  , ..., -0.13375723,\n",
              "          0.4126437 , -0.28217414],\n",
              "        [ 0.6819692 , -0.14959116,  0.6762679 , ..., -0.12404763,\n",
              "          0.39184713, -0.3463641 ]]], dtype=float32)"
            ]
          },
          "metadata": {
            "tags": []
          },
          "execution_count": 147
        }
      ]
    },
    {
      "cell_type": "code",
      "metadata": {
        "id": "qVfGkkhlDyKK",
        "colab_type": "code",
        "colab": {}
      },
      "source": [
        "from sklearn.model_selection import train_test_split"
      ],
      "execution_count": null,
      "outputs": []
    },
    {
      "cell_type": "code",
      "metadata": {
        "id": "uFJeXwmNDlda",
        "colab_type": "code",
        "colab": {}
      },
      "source": [
        "X_train, X_val, y_train, y_val = train_test_split(data[0].numpy(),\n",
        "                                                    labels,\n",
        "                                                    test_size=0.5,\n",
        "                                                    random_state=1)"
      ],
      "execution_count": null,
      "outputs": []
    },
    {
      "cell_type": "code",
      "metadata": {
        "id": "mKVdLZhDyLMq",
        "colab_type": "code",
        "colab": {}
      },
      "source": [
        "# indices = np.arange(data.shape[0])\n",
        "# np.random.shuffle(indices)\n",
        "# data = data[indices]\n",
        "# labels = labels[indices]\n",
        "# nb_validation_samples = int(VALIDATION_SPLIT * data.shape[0])\n",
        "\n",
        "# x_train = data[:-nb_validation_samples]\n",
        "# y_train = labels[:-nb_validation_samples]\n",
        "# x_val = data[-nb_validation_samples:]\n",
        "# y_val = labels[-nb_validation_samples:]"
      ],
      "execution_count": null,
      "outputs": []
    },
    {
      "cell_type": "code",
      "metadata": {
        "id": "ANXMz257vhpG",
        "colab_type": "code",
        "colab": {}
      },
      "source": [
        "#customized f1 score function for passing into model metrics:\n",
        "def F1_Score(y_true, y_pred): #taken from old keras source code\n",
        "    true_positives = K.sum(K.round(K.clip(y_true * y_pred, 0, 1)))\n",
        "    possible_positives = K.sum(K.round(K.clip(y_true, 0, 1)))\n",
        "    predicted_positives = K.sum(K.round(K.clip(y_pred, 0, 1)))\n",
        "    precision = true_positives / (predicted_positives + K.epsilon())\n",
        "    recall = true_positives / (possible_positives + K.epsilon())\n",
        "    f1_val = 2*(precision*recall)/(precision+recall+K.epsilon())\n",
        "    return f1_val"
      ],
      "execution_count": null,
      "outputs": []
    },
    {
      "cell_type": "code",
      "metadata": {
        "id": "RhsP9Kn2vhsi",
        "colab_type": "code",
        "colab": {
          "base_uri": "https://localhost:8080/",
          "height": 1000
        },
        "outputId": "6e0acfee-62e3-40de-b341-54d2d82b2055"
      },
      "source": [
        "embedded_sequences = Input(shape=(MAX_TOKENS,768,), dtype='float32')\n",
        "c=Conv1D(filters=128,kernel_size=3,padding='valid',activation='relu')(embedded_sequences)\n",
        "maxPool=MaxPooling1D(pool_size=2)(c)\n",
        "l_lstm = Bidirectional(GRU(100, return_sequences=True))(maxPool)\n",
        "l_att = AttLayer(100)(l_lstm)\n",
        "preds = Dense(1, activation='sigmoid')(l_att)\n",
        "model_Att = Model(embedded_sequences, preds)\n",
        "model_Att.summary()\n",
        "\n",
        "from keras.utils.vis_utils import plot_model\n",
        "plot_model(model_Att, to_file='model_plot.png', show_shapes=True, show_layer_names=True, expand_nested=True)\n",
        "\n",
        "model_Att.compile(loss='binary_crossentropy',\n",
        "              optimizer='adam',\n",
        "              metrics=['accuracy',F1_Score,])\n",
        "history = model_Att.fit(X_train, y_train, validation_data=(X_val, y_val),\n",
        "          epochs=50, batch_size=32)\n",
        "\n",
        "# score=model_Att.evaluate(x_test,y_test,verbose=1)\n",
        "# print('Test Accuracy: '+str(score[1]))\n",
        "# print('Test F1 Score: '+str(score[2]))\n",
        "\n",
        "# from sklearn.metrics import precision_recall_fscore_support,classification_report\n",
        "# y_pred=model_Att.predict(x_test)\n",
        "# #print(y_pred)\n",
        "# y2=[]\n",
        "# for q in y_pred:\n",
        "#   if(q[0]>0.5):\n",
        "#     y2.append(True)\n",
        "#   else:\n",
        "#     y2.append(False)\n",
        "# print('Classification report:\\n',classification_report(y_test,y2))\n",
        "# #print('Classification report:\\n',precision_recall_fscore_support(y_test,y_pred))\n",
        "# #print(y_pred)"
      ],
      "execution_count": null,
      "outputs": [
        {
          "output_type": "stream",
          "text": [
            "tracking <tf.Variable 'att_layer_3/Variable:0' shape=(200, 100) dtype=float32> W\n",
            "tracking <tf.Variable 'att_layer_3/Variable:0' shape=(100,) dtype=float32> b\n",
            "tracking <tf.Variable 'att_layer_3/Variable:0' shape=(100, 1) dtype=float32> u\n",
            "Model: \"model_3\"\n",
            "_________________________________________________________________\n",
            "Layer (type)                 Output Shape              Param #   \n",
            "=================================================================\n",
            "input_3 (InputLayer)         (None, 128, 768)          0         \n",
            "_________________________________________________________________\n",
            "conv1d_3 (Conv1D)            (None, 126, 128)          295040    \n",
            "_________________________________________________________________\n",
            "max_pooling1d_3 (MaxPooling1 (None, 63, 128)           0         \n",
            "_________________________________________________________________\n",
            "bidirectional_3 (Bidirection (None, 63, 200)           137400    \n",
            "_________________________________________________________________\n",
            "att_layer_3 (AttLayer)       (None, 200)               20200     \n",
            "_________________________________________________________________\n",
            "dense_3 (Dense)              (None, 1)                 201       \n",
            "=================================================================\n",
            "Total params: 452,841\n",
            "Trainable params: 452,841\n",
            "Non-trainable params: 0\n",
            "_________________________________________________________________\n",
            "Train on 5 samples, validate on 5 samples\n",
            "Epoch 1/50\n",
            "5/5 [==============================] - 1s 218ms/step - loss: 0.7435 - accuracy: 0.2000 - F1_Score: 0.3333 - val_loss: 0.8849 - val_accuracy: 0.6000 - val_F1_Score: 0.0000e+00\n",
            "Epoch 2/50\n",
            "5/5 [==============================] - 0s 31ms/step - loss: 0.5106 - accuracy: 0.8000 - F1_Score: 0.0000e+00 - val_loss: 1.0033 - val_accuracy: 0.6000 - val_F1_Score: 0.0000e+00\n",
            "Epoch 3/50\n",
            "5/5 [==============================] - 0s 29ms/step - loss: 0.5042 - accuracy: 0.8000 - F1_Score: 0.0000e+00 - val_loss: 0.8574 - val_accuracy: 0.6000 - val_F1_Score: 0.0000e+00\n",
            "Epoch 4/50\n",
            "5/5 [==============================] - 0s 29ms/step - loss: 0.4051 - accuracy: 0.8000 - F1_Score: 0.0000e+00 - val_loss: 0.6599 - val_accuracy: 0.6000 - val_F1_Score: 0.0000e+00\n",
            "Epoch 5/50\n",
            "5/5 [==============================] - 0s 29ms/step - loss: 0.3055 - accuracy: 0.8000 - F1_Score: 0.0000e+00 - val_loss: 0.5778 - val_accuracy: 0.6000 - val_F1_Score: 0.0000e+00\n",
            "Epoch 6/50\n",
            "5/5 [==============================] - 0s 28ms/step - loss: 0.2582 - accuracy: 1.0000 - F1_Score: 1.0000 - val_loss: 0.5592 - val_accuracy: 0.8000 - val_F1_Score: 0.8000\n",
            "Epoch 7/50\n",
            "5/5 [==============================] - 0s 28ms/step - loss: 0.1997 - accuracy: 1.0000 - F1_Score: 1.0000 - val_loss: 0.5259 - val_accuracy: 0.6000 - val_F1_Score: 0.5000\n",
            "Epoch 8/50\n",
            "5/5 [==============================] - 0s 28ms/step - loss: 0.1260 - accuracy: 1.0000 - F1_Score: 1.0000 - val_loss: 0.5173 - val_accuracy: 0.6000 - val_F1_Score: 0.0000e+00\n",
            "Epoch 9/50\n",
            "5/5 [==============================] - 0s 27ms/step - loss: 0.0794 - accuracy: 1.0000 - F1_Score: 1.0000 - val_loss: 0.5565 - val_accuracy: 0.6000 - val_F1_Score: 0.0000e+00\n",
            "Epoch 10/50\n",
            "5/5 [==============================] - 0s 28ms/step - loss: 0.0546 - accuracy: 1.0000 - F1_Score: 1.0000 - val_loss: 0.6100 - val_accuracy: 0.6000 - val_F1_Score: 0.0000e+00\n",
            "Epoch 11/50\n",
            "5/5 [==============================] - 0s 27ms/step - loss: 0.0347 - accuracy: 1.0000 - F1_Score: 1.0000 - val_loss: 0.6418 - val_accuracy: 0.6000 - val_F1_Score: 0.0000e+00\n",
            "Epoch 12/50\n",
            "5/5 [==============================] - 0s 28ms/step - loss: 0.0188 - accuracy: 1.0000 - F1_Score: 1.0000 - val_loss: 0.6490 - val_accuracy: 0.6000 - val_F1_Score: 0.0000e+00\n",
            "Epoch 13/50\n",
            "5/5 [==============================] - 0s 28ms/step - loss: 0.0092 - accuracy: 1.0000 - F1_Score: 1.0000 - val_loss: 0.6440 - val_accuracy: 0.6000 - val_F1_Score: 0.0000e+00\n",
            "Epoch 14/50\n",
            "5/5 [==============================] - 0s 27ms/step - loss: 0.0045 - accuracy: 1.0000 - F1_Score: 1.0000 - val_loss: 0.6378 - val_accuracy: 0.8000 - val_F1_Score: 0.6667\n",
            "Epoch 15/50\n",
            "5/5 [==============================] - 0s 27ms/step - loss: 0.0023 - accuracy: 1.0000 - F1_Score: 1.0000 - val_loss: 0.6355 - val_accuracy: 0.8000 - val_F1_Score: 0.6667\n",
            "Epoch 16/50\n",
            "5/5 [==============================] - 0s 29ms/step - loss: 0.0013 - accuracy: 1.0000 - F1_Score: 1.0000 - val_loss: 0.6376 - val_accuracy: 0.8000 - val_F1_Score: 0.6667\n",
            "Epoch 17/50\n",
            "5/5 [==============================] - 0s 29ms/step - loss: 7.6710e-04 - accuracy: 1.0000 - F1_Score: 1.0000 - val_loss: 0.6437 - val_accuracy: 0.8000 - val_F1_Score: 0.6667\n",
            "Epoch 18/50\n",
            "5/5 [==============================] - 0s 28ms/step - loss: 4.9414e-04 - accuracy: 1.0000 - F1_Score: 1.0000 - val_loss: 0.6532 - val_accuracy: 0.8000 - val_F1_Score: 0.6667\n",
            "Epoch 19/50\n",
            "5/5 [==============================] - 0s 26ms/step - loss: 3.3788e-04 - accuracy: 1.0000 - F1_Score: 1.0000 - val_loss: 0.6648 - val_accuracy: 0.8000 - val_F1_Score: 0.6667\n",
            "Epoch 20/50\n",
            "5/5 [==============================] - 0s 26ms/step - loss: 2.4373e-04 - accuracy: 1.0000 - F1_Score: 1.0000 - val_loss: 0.6782 - val_accuracy: 0.8000 - val_F1_Score: 0.6667\n",
            "Epoch 21/50\n",
            "5/5 [==============================] - 0s 26ms/step - loss: 1.8407e-04 - accuracy: 1.0000 - F1_Score: 1.0000 - val_loss: 0.6929 - val_accuracy: 0.8000 - val_F1_Score: 0.6667\n",
            "Epoch 22/50\n",
            "5/5 [==============================] - 0s 27ms/step - loss: 1.4445e-04 - accuracy: 1.0000 - F1_Score: 1.0000 - val_loss: 0.7079 - val_accuracy: 0.8000 - val_F1_Score: 0.6667\n",
            "Epoch 23/50\n",
            "5/5 [==============================] - 0s 27ms/step - loss: 1.1711e-04 - accuracy: 1.0000 - F1_Score: 1.0000 - val_loss: 0.7232 - val_accuracy: 0.8000 - val_F1_Score: 0.6667\n",
            "Epoch 24/50\n",
            "5/5 [==============================] - 0s 27ms/step - loss: 9.7549e-05 - accuracy: 1.0000 - F1_Score: 1.0000 - val_loss: 0.7383 - val_accuracy: 0.8000 - val_F1_Score: 0.6667\n",
            "Epoch 25/50\n",
            "5/5 [==============================] - 0s 29ms/step - loss: 8.3097e-05 - accuracy: 1.0000 - F1_Score: 1.0000 - val_loss: 0.7533 - val_accuracy: 0.8000 - val_F1_Score: 0.6667\n",
            "Epoch 26/50\n",
            "5/5 [==============================] - 0s 26ms/step - loss: 7.2153e-05 - accuracy: 1.0000 - F1_Score: 1.0000 - val_loss: 0.7678 - val_accuracy: 0.8000 - val_F1_Score: 0.6667\n",
            "Epoch 27/50\n",
            "5/5 [==============================] - 0s 26ms/step - loss: 6.3683e-05 - accuracy: 1.0000 - F1_Score: 1.0000 - val_loss: 0.7817 - val_accuracy: 0.8000 - val_F1_Score: 0.6667\n",
            "Epoch 28/50\n",
            "5/5 [==============================] - 0s 28ms/step - loss: 5.6989e-05 - accuracy: 1.0000 - F1_Score: 1.0000 - val_loss: 0.7952 - val_accuracy: 0.8000 - val_F1_Score: 0.6667\n",
            "Epoch 29/50\n",
            "5/5 [==============================] - 0s 27ms/step - loss: 5.1601e-05 - accuracy: 1.0000 - F1_Score: 1.0000 - val_loss: 0.8083 - val_accuracy: 0.8000 - val_F1_Score: 0.6667\n",
            "Epoch 30/50\n",
            "5/5 [==============================] - 0s 28ms/step - loss: 4.7206e-05 - accuracy: 1.0000 - F1_Score: 1.0000 - val_loss: 0.8208 - val_accuracy: 0.8000 - val_F1_Score: 0.6667\n",
            "Epoch 31/50\n",
            "5/5 [==============================] - 0s 28ms/step - loss: 4.3574e-05 - accuracy: 1.0000 - F1_Score: 1.0000 - val_loss: 0.8328 - val_accuracy: 0.8000 - val_F1_Score: 0.6667\n",
            "Epoch 32/50\n",
            "5/5 [==============================] - 0s 27ms/step - loss: 4.0535e-05 - accuracy: 1.0000 - F1_Score: 1.0000 - val_loss: 0.8443 - val_accuracy: 0.8000 - val_F1_Score: 0.6667\n",
            "Epoch 33/50\n",
            "5/5 [==============================] - 0s 27ms/step - loss: 3.7968e-05 - accuracy: 1.0000 - F1_Score: 1.0000 - val_loss: 0.8552 - val_accuracy: 0.8000 - val_F1_Score: 0.6667\n",
            "Epoch 34/50\n",
            "5/5 [==============================] - 0s 28ms/step - loss: 3.5777e-05 - accuracy: 1.0000 - F1_Score: 1.0000 - val_loss: 0.8657 - val_accuracy: 0.8000 - val_F1_Score: 0.6667\n",
            "Epoch 35/50\n",
            "5/5 [==============================] - 0s 27ms/step - loss: 3.3892e-05 - accuracy: 1.0000 - F1_Score: 1.0000 - val_loss: 0.8757 - val_accuracy: 0.8000 - val_F1_Score: 0.6667\n",
            "Epoch 36/50\n",
            "5/5 [==============================] - 0s 27ms/step - loss: 3.2255e-05 - accuracy: 1.0000 - F1_Score: 1.0000 - val_loss: 0.8853 - val_accuracy: 0.8000 - val_F1_Score: 0.6667\n",
            "Epoch 37/50\n",
            "5/5 [==============================] - 0s 27ms/step - loss: 3.0825e-05 - accuracy: 1.0000 - F1_Score: 1.0000 - val_loss: 0.8945 - val_accuracy: 0.8000 - val_F1_Score: 0.6667\n",
            "Epoch 38/50\n",
            "5/5 [==============================] - 0s 27ms/step - loss: 2.9568e-05 - accuracy: 1.0000 - F1_Score: 1.0000 - val_loss: 0.9032 - val_accuracy: 0.8000 - val_F1_Score: 0.6667\n",
            "Epoch 39/50\n",
            "5/5 [==============================] - 0s 27ms/step - loss: 2.8457e-05 - accuracy: 1.0000 - F1_Score: 1.0000 - val_loss: 0.9115 - val_accuracy: 0.8000 - val_F1_Score: 0.6667\n",
            "Epoch 40/50\n",
            "5/5 [==============================] - 0s 27ms/step - loss: 2.7469e-05 - accuracy: 1.0000 - F1_Score: 1.0000 - val_loss: 0.9194 - val_accuracy: 0.8000 - val_F1_Score: 0.6667\n",
            "Epoch 41/50\n",
            "5/5 [==============================] - 0s 26ms/step - loss: 2.6586e-05 - accuracy: 1.0000 - F1_Score: 1.0000 - val_loss: 0.9271 - val_accuracy: 0.8000 - val_F1_Score: 0.6667\n",
            "Epoch 42/50\n",
            "5/5 [==============================] - 0s 27ms/step - loss: 2.5793e-05 - accuracy: 1.0000 - F1_Score: 1.0000 - val_loss: 0.9343 - val_accuracy: 0.8000 - val_F1_Score: 0.6667\n",
            "Epoch 43/50\n",
            "5/5 [==============================] - 0s 29ms/step - loss: 2.5078e-05 - accuracy: 1.0000 - F1_Score: 1.0000 - val_loss: 0.9413 - val_accuracy: 0.8000 - val_F1_Score: 0.6667\n",
            "Epoch 44/50\n",
            "5/5 [==============================] - 0s 28ms/step - loss: 2.4431e-05 - accuracy: 1.0000 - F1_Score: 1.0000 - val_loss: 0.9480 - val_accuracy: 0.8000 - val_F1_Score: 0.6667\n",
            "Epoch 45/50\n",
            "5/5 [==============================] - 0s 28ms/step - loss: 2.3843e-05 - accuracy: 1.0000 - F1_Score: 1.0000 - val_loss: 0.9544 - val_accuracy: 0.8000 - val_F1_Score: 0.6667\n",
            "Epoch 46/50\n",
            "5/5 [==============================] - 0s 28ms/step - loss: 2.3306e-05 - accuracy: 1.0000 - F1_Score: 1.0000 - val_loss: 0.9606 - val_accuracy: 0.8000 - val_F1_Score: 0.6667\n",
            "Epoch 47/50\n",
            "5/5 [==============================] - 0s 26ms/step - loss: 2.2815e-05 - accuracy: 1.0000 - F1_Score: 1.0000 - val_loss: 0.9665 - val_accuracy: 0.8000 - val_F1_Score: 0.6667\n",
            "Epoch 48/50\n",
            "5/5 [==============================] - 0s 26ms/step - loss: 2.2365e-05 - accuracy: 1.0000 - F1_Score: 1.0000 - val_loss: 0.9722 - val_accuracy: 0.8000 - val_F1_Score: 0.6667\n",
            "Epoch 49/50\n",
            "5/5 [==============================] - 0s 28ms/step - loss: 2.1949e-05 - accuracy: 1.0000 - F1_Score: 1.0000 - val_loss: 0.9777 - val_accuracy: 0.8000 - val_F1_Score: 0.6667\n",
            "Epoch 50/50\n",
            "5/5 [==============================] - 0s 26ms/step - loss: 2.1566e-05 - accuracy: 1.0000 - F1_Score: 1.0000 - val_loss: 0.9830 - val_accuracy: 0.8000 - val_F1_Score: 0.6667\n"
          ],
          "name": "stdout"
        }
      ]
    },
    {
      "cell_type": "code",
      "metadata": {
        "id": "R9mquCcZz6Vu",
        "colab_type": "code",
        "colab": {
          "base_uri": "https://localhost:8080/",
          "height": 235
        },
        "outputId": "c7c2243e-6079-4b75-f470-6179dc9d0449"
      },
      "source": [
        "score=model_Att.evaluate(test_features[0].numpy(),test_labels,verbose=1)\n",
        "print('Test Accuracy: '+str(score[1]))\n",
        "print('Test F1 Score: '+str(score[2]))\n",
        "\n",
        "from sklearn.metrics import precision_recall_fscore_support,classification_report\n",
        "y_pred=model_Att.predict(test_features[0].numpy())\n",
        "#print(y_pred)\n",
        "y2=[]\n",
        "for q in y_pred:\n",
        "  if(q[0]>0.5):\n",
        "    y2.append(True)\n",
        "  else:\n",
        "    y2.append(False)\n",
        "print('Classification report:\\n',classification_report(test_labels,y2))\n",
        "#print('Classification report:\\n',precision_recall_fscore_support(y_test,y_pred))\n",
        "#print(y_pred)"
      ],
      "execution_count": null,
      "outputs": [
        {
          "output_type": "stream",
          "text": [
            "1283/1283 [==============================] - 3s 2ms/step\n",
            "Test Accuracy: 0.5479345321655273\n",
            "Test F1 Score: 0.24351564049720764\n",
            "Classification report:\n",
            "               precision    recall  f1-score   support\n",
            "\n",
            "           0       0.57      0.82      0.67       727\n",
            "           1       0.45      0.19      0.27       556\n",
            "\n",
            "    accuracy                           0.55      1283\n",
            "   macro avg       0.51      0.51      0.47      1283\n",
            "weighted avg       0.52      0.55      0.50      1283\n",
            "\n"
          ],
          "name": "stdout"
        }
      ]
    },
    {
      "cell_type": "code",
      "metadata": {
        "id": "VsLpSaP-wxmy",
        "colab_type": "code",
        "colab": {
          "base_uri": "https://localhost:8080/",
          "height": 67
        },
        "outputId": "bdac82bf-743f-4505-a371-1c4a1958fb42"
      },
      "source": [
        "from sklearn.metrics import confusion_matrix\n",
        "cm = confusion_matrix(test_labels, y2)\n",
        "print('Confusion Matrix')\n",
        "print(cm)"
      ],
      "execution_count": null,
      "outputs": [
        {
          "output_type": "stream",
          "text": [
            "Confusion Matrix\n",
            "[[596 131]\n",
            " [449 107]]\n"
          ],
          "name": "stdout"
        }
      ]
    },
    {
      "cell_type": "code",
      "metadata": {
        "id": "W5DgZTkWwyps",
        "colab_type": "code",
        "colab": {
          "base_uri": "https://localhost:8080/",
          "height": 334
        },
        "outputId": "6b538842-9cc8-4203-845e-dc526b9f0f94"
      },
      "source": [
        "# list all data in history\n",
        "print(history.history.keys())\n",
        "# summarize history for accuracy\n",
        "plt.plot(history.history['accuracy'])\n",
        "plt.plot(history.history['val_accuracy'])\n",
        "plt.title('model accuracy')\n",
        "plt.ylabel('accuracy')\n",
        "plt.xlabel('epoch')\n",
        "plt.legend(['train', 'valid'], loc='upper left')\n",
        "# plt.show()\n",
        "plt.savefig('plots/Model_accuracy.png')"
      ],
      "execution_count": null,
      "outputs": [
        {
          "output_type": "stream",
          "text": [
            "dict_keys(['val_loss', 'val_accuracy', 'val_F1_Score', 'loss', 'accuracy', 'F1_Score'])\n"
          ],
          "name": "stdout"
        },
        {
          "output_type": "display_data",
          "data": {
            "image/png": "[encoded data removed]",
            "text/plain": [
              "<Figure size 432x288 with 1 Axes>"
            ]
          },
          "metadata": {
            "tags": [],
            "needs_background": "light"
          }
        }
      ]
    },
    {
      "cell_type": "code",
      "metadata": {
        "id": "3gdXspk4w0LN",
        "colab_type": "code",
        "colab": {
          "base_uri": "https://localhost:8080/",
          "height": 317
        },
        "outputId": "1ed19962-6562-4853-8671-103c6690d877"
      },
      "source": [
        "# summarize history for loss\n",
        "plt.plot(history.history['loss'])\n",
        "plt.plot(history.history['val_loss'])\n",
        "plt.title('model loss')\n",
        "plt.ylabel('loss')\n",
        "plt.xlabel('epoch')\n",
        "plt.legend(['train', 'valid'], loc='upper left')\n",
        "# plt.show()\n",
        "plt.savefig('plots/Model_loss.png')"
      ],
      "execution_count": null,
      "outputs": [
        {
          "output_type": "display_data",
          "data": {
            "image/png": "[encoded data removed]",
            "text/plain": [
              "<Figure size 432x288 with 1 Axes>"
            ]
          },
          "metadata": {
            "tags": [],
            "needs_background": "light"
          }
        }
      ]
    },
    {
      "cell_type": "code",
      "metadata": {
        "id": "JyTjx4UsJ_l-",
        "colab_type": "code",
        "colab": {}
      },
      "source": [
        ""
      ],
      "execution_count": null,
      "outputs": []
    }
  ]
}