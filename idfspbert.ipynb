{
 "cells": [
  {
   "cell_type": "code",
   "execution_count": 1,
   "metadata": {},
   "outputs": [],
   "source": [
    "import h5py"
   ]
  },
  {
   "cell_type": "code",
   "execution_count": 2,
   "metadata": {},
   "outputs": [],
   "source": [
    "import logging\n",
    "import time\n",
    "from platform import python_version\n",
    "import matplotlib\n",
    "import matplotlib.pyplot as plt\n",
    "import numpy as np\n",
    "import pandas as pd\n",
    "import sklearn\n",
    "import torch\n",
    "import torch.nn as nn\n",
    "import torch.nn.functional as F\n",
    "import transformers\n",
    "from sklearn.metrics import roc_auc_score\n",
    "from torch.autograd import Variable"
   ]
  },
  {
   "cell_type": "code",
   "execution_count": 3,
   "metadata": {},
   "outputs": [],
   "source": [
    "import transformers"
   ]
  },
  {
   "cell_type": "code",
   "execution_count": 4,
   "metadata": {},
   "outputs": [],
   "source": [
    "tokenizer = transformers.DistilBertTokenizer.from_pretrained('distilbert-base-uncased',)\n",
    "dbert_model = transformers.DistilBertModel.from_pretrained('distilbert-base-uncased')"
   ]
  },
  {
   "cell_type": "code",
   "execution_count": 5,
   "metadata": {},
   "outputs": [],
   "source": [
    "max_seq = 98"
   ]
  },
  {
   "cell_type": "code",
   "execution_count": 6,
   "metadata": {},
   "outputs": [],
   "source": [
    "with h5py.File('./LIAR_dataset/hidden_features.hdf5', 'r') as f:\n",
    "    data = f.get('default').value\n",
    "with h5py.File('./LIAR_dataset/test_features.hdf5', 'r') as g:\n",
    "    test_data = g.get('default').value"
   ]
  },
  {
   "cell_type": "code",
   "execution_count": 7,
   "metadata": {},
   "outputs": [],
   "source": [
    "def read_data(filename):\n",
    "    df = pd.read_csv(filename,engine='python', delimiter=r'\\t+', names=['id', 'Label','Statement', 'subject', 'speaker','speaker_title','state', 'party','barely_true','false_counts','half_true','mostly_true','pants_on_fire','context'])\n",
    "    labels=[]\n",
    "    for l in df['Label']:\n",
    "        if l in ['false','barely-true','pants-fire']:\n",
    "            temp = [1,0]\n",
    "            labels.append(temp)\n",
    "        elif l in ['half-true','mostly-true', 'true']:\n",
    "            temp = [0, 1]\n",
    "            labels.append(temp)\n",
    "        else:\n",
    "            raise Exception(\"Error encountered in labelling\")\n",
    "    data = pd.concat([df['Statement'], pd.Series(labels)], axis=1)\n",
    "    data.columns = ['Statement', 'Label']\n",
    "    return data"
   ]
  },
  {
   "cell_type": "code",
   "execution_count": 52,
   "metadata": {},
   "outputs": [],
   "source": [
    "data_train = read_data('LIAR_dataset/train.tsv')\n",
    "data_test = read_data('LIAR_dataset/test.tsv')\n",
    "data_valid = read_data('LIAR_dataset/valid.tsv')\n",
    "data_train = pd.concat([data_train, data_valid])\n",
    "\n",
    "\n",
    "train_labels = data_train['Label'].values\n",
    "test_labels = data_test['Label'].values"
   ]
  },
  {
   "cell_type": "code",
   "execution_count": 53,
   "metadata": {},
   "outputs": [
    {
     "data": {
      "text/plain": [
       "array([list([1, 0]), list([0, 1]), list([0, 1]), ..., list([0, 1]),\n",
       "       list([1, 0]), list([1, 0])], dtype=object)"
      ]
     },
     "execution_count": 53,
     "metadata": {},
     "output_type": "execute_result"
    }
   ],
   "source": [
    "train_labels"
   ]
  },
  {
   "cell_type": "code",
   "execution_count": 54,
   "metadata": {},
   "outputs": [],
   "source": [
    "from sklearn.model_selection import train_test_split\n"
   ]
  },
  {
   "cell_type": "code",
   "execution_count": 55,
   "metadata": {},
   "outputs": [],
   "source": [
    "train_labels = np.array([np.array(xi) for xi in train_labels])\n",
    "test_labels = np.array([np.array(xi) for xi in test_labels])"
   ]
  },
  {
   "cell_type": "code",
   "execution_count": 56,
   "metadata": {},
   "outputs": [],
   "source": [
    "#full_features\n",
    "x_train, x_val, y_train, y_val = train_test_split(data, train_labels)"
   ]
  },
  {
   "cell_type": "code",
   "execution_count": 57,
   "metadata": {},
   "outputs": [],
   "source": [
    "x_train = torch.tensor(x_train, dtype=torch.float32)\n",
    "x_val = torch.tensor(x_val, dtype=torch.float32)\n",
    "y_train = torch.tensor(y_train, dtype=torch.float32)\n",
    "y_val = torch.tensor(y_val, dtype=torch.float32)"
   ]
  },
  {
   "cell_type": "code",
   "execution_count": 58,
   "metadata": {},
   "outputs": [],
   "source": [
    "x_test =  torch.tensor(test_data, dtype=torch.float32)"
   ]
  },
  {
   "cell_type": "code",
   "execution_count": 59,
   "metadata": {},
   "outputs": [],
   "source": [
    "y_test = torch.tensor(test_labels, dtype=torch.float32)"
   ]
  },
  {
   "cell_type": "code",
   "execution_count": 60,
   "metadata": {},
   "outputs": [],
   "source": [
    "class KimCNN(nn.Module):\n",
    "    def __init__(self, embed_num, embed_dim, class_num, kernel_num, kernel_sizes, dropout, static):\n",
    "        super(KimCNN, self).__init__()\n",
    "        V = embed_num\n",
    "        D = embed_dim\n",
    "        C = class_num\n",
    "        Co = kernel_num\n",
    "        Ks = kernel_sizes\n",
    "        \n",
    "        self.static = static\n",
    "        self.embed = nn.Embedding(V, D)\n",
    "        self.convs1 = nn.ModuleList([nn.Conv2d(1, Co, (K, D)) for K in Ks])\n",
    "        self.dropout = nn.Dropout(dropout)\n",
    "        self.fc1 = nn.Linear(len(Ks) * Co, C)\n",
    "        self.sigmoid = nn.Sigmoid()\n",
    "        \n",
    "    def forward(self, x):\n",
    "        if self.static:\n",
    "            x = Variable(x)\n",
    "        x = x.unsqueeze(1)  # (N, Ci, W, D)\n",
    "#         mylist=[]\n",
    "#         for conv in self.convs1:\n",
    "#             op1 = conv(x)\n",
    "#             op2 = F.relu(op1).squeeze(3)\n",
    "#             mylist.append(mylist)\n",
    "#         x = torch.Tensor(np.array(mylist))\n",
    "#         x = [print(conv(x)) for conv in self.convs1]\n",
    "        x = [F.relu(conv(x)).squeeze(3) for conv in self.convs1]  # [(N, Co, W), ...]*len(Ks)\n",
    "        x = [F.max_pool1d(i, i.size(2)).squeeze(2) for i in x]  # [(N, Co), ...]*len(Ks)\n",
    "        x = torch.cat(x, 1)\n",
    "        x = self.dropout(x)  # (N, len(Ks)*Co)\n",
    "        logit = self.fc1(x)  # (N, C)\n",
    "        output = self.sigmoid(logit)\n",
    "        return output"
   ]
  },
  {
   "cell_type": "code",
   "execution_count": 61,
   "metadata": {},
   "outputs": [],
   "source": [
    "embed_num = x_train.shape[1]\n",
    "embed_dim = x_train.shape[2]\n",
    "class_num = y_train.shape[1]\n",
    "kernel_num = 3\n",
    "kernel_sizes = [2, 3, 4]\n",
    "dropout = 0.5\n",
    "static = True\n",
    "model = KimCNN(\n",
    "    embed_num=embed_num,\n",
    "    embed_dim=embed_dim,\n",
    "    class_num=class_num,\n",
    "    kernel_num=kernel_num,\n",
    "    kernel_sizes=kernel_sizes,\n",
    "    dropout=dropout,\n",
    "    static=static,\n",
    ")"
   ]
  },
  {
   "cell_type": "code",
   "execution_count": 65,
   "metadata": {},
   "outputs": [],
   "source": [
    "n_epochs = 20\n",
    "batch_size = 32\n",
    "lr = 0.0005\n",
    "optimizer = torch.optim.Adam(model.parameters(), lr=lr)\n",
    "loss_fn = nn.BCELoss()"
   ]
  },
  {
   "cell_type": "code",
   "execution_count": 66,
   "metadata": {},
   "outputs": [],
   "source": [
    "def generate_batch_data(x, y, batch_size):\n",
    "    i, batch = 0, 0\n",
    "    for batch, i in enumerate(range(0, len(x) - batch_size, batch_size), 1):\n",
    "        x_batch = x[i : i + batch_size]\n",
    "        y_batch = y[i : i + batch_size]\n",
    "        yield x_batch, y_batch, batch\n",
    "    if i + batch_size < len(x):\n",
    "        yield x[i + batch_size :], y[i + batch_size :], batch + 1\n",
    "    if batch == 0:\n",
    "        yield x, y, 1"
   ]
  },
  {
   "cell_type": "code",
   "execution_count": 67,
   "metadata": {},
   "outputs": [],
   "source": [
    "import argparse"
   ]
  },
  {
   "cell_type": "code",
   "execution_count": 68,
   "metadata": {},
   "outputs": [],
   "source": [
    "# Load saved model if needed\n",
    "\n",
    "# model.load_state_dict(torch.load('./model_weights/idfsbert_32_valid_0.640900364943913'))"
   ]
  },
  {
   "cell_type": "code",
   "execution_count": 69,
   "metadata": {
    "scrolled": true
   },
   "outputs": [
    {
     "name": "stdout",
     "output_type": "stream",
     "text": [
      "Epoch 1 Train loss: 0.68. Validation loss: 0.67. Elapsed time: 8.27s.\n",
      "Epoch 2 Train loss: 0.67. Validation loss: 0.66. Elapsed time: 7.88s.\n",
      "Epoch 3 Train loss: 0.66. Validation loss: 0.65. Elapsed time: 9.22s.\n",
      "Epoch 4 Train loss: 0.65. Validation loss: 0.66. Elapsed time: 7.61s.\n",
      "Epoch 5 Train loss: 0.65. Validation loss: 0.65. Elapsed time: 8.00s.\n",
      "Epoch 6 Train loss: 0.64. Validation loss: 0.65. Elapsed time: 7.78s.\n",
      "Epoch 7 Train loss: 0.64. Validation loss: 0.65. Elapsed time: 8.72s.\n",
      "Epoch 8 Train loss: 0.64. Validation loss: 0.65. Elapsed time: 7.99s.\n",
      "Epoch 9 Train loss: 0.63. Validation loss: 0.65. Elapsed time: 7.55s.\n",
      "Epoch 10 Train loss: 0.63. Validation loss: 0.65. Elapsed time: 8.37s.\n",
      "Epoch 11 Train loss: 0.62. Validation loss: 0.65. Elapsed time: 8.14s.\n",
      "Epoch 12 Train loss: 0.61. Validation loss: 0.65. Elapsed time: 8.51s.\n",
      "Epoch 13 Train loss: 0.61. Validation loss: 0.65. Elapsed time: 7.49s.\n",
      "Epoch 14 Train loss: 0.60. Validation loss: 0.66. Elapsed time: 7.91s.\n",
      "Epoch 15 Train loss: 0.60. Validation loss: 0.66. Elapsed time: 7.91s.\n",
      "Epoch 16 Train loss: 0.59. Validation loss: 0.66. Elapsed time: 7.72s.\n",
      "Epoch 17 Train loss: 0.59. Validation loss: 0.66. Elapsed time: 8.63s.\n",
      "Epoch 18 Train loss: 0.59. Validation loss: 0.66. Elapsed time: 8.09s.\n",
      "Epoch 19 Train loss: 0.58. Validation loss: 0.67. Elapsed time: 8.66s.\n",
      "Epoch 20 Train loss: 0.57. Validation loss: 0.67. Elapsed time: 8.34s.\n"
     ]
    }
   ],
   "source": [
    "train_losses, val_losses = [], []\n",
    "count=0\n",
    "for epoch in range(n_epochs):\n",
    "    start_time = time.time()\n",
    "    train_loss = 0\n",
    "\n",
    "    model.train(True)\n",
    "    for x_batch, y_batch, batch in generate_batch_data(x_train, y_train, batch_size):\n",
    "        y_pred = model(x_batch)\n",
    "#         y_batch = y_batch.unsqueeze(1)\n",
    "        optimizer.zero_grad()\n",
    "        loss = loss_fn(y_pred, y_batch)\n",
    "        loss.backward()\n",
    "        optimizer.step()\n",
    "        train_loss += loss.item()\n",
    "\n",
    "    train_loss /= batch\n",
    "    train_losses.append(train_loss)\n",
    "    elapsed = time.time() - start_time\n",
    "\n",
    "    model.eval() # disable dropout for deterministic output\n",
    "    with torch.no_grad(): # deactivate autograd engine to reduce memory usage and speed up computations\n",
    "        val_loss, batch = 0, 1\n",
    "        for x_batch, y_batch, batch in generate_batch_data(x_val, y_val, batch_size):\n",
    "            y_pred = model(x_batch)\n",
    "#             y_batch = y_batch.unsqueeze(1)\n",
    "            loss = loss_fn(y_pred, y_batch)\n",
    "            val_loss += loss.item()\n",
    "        val_loss /= batch\n",
    "        val_losses.append(val_loss)\n",
    "\n",
    "    print(\n",
    "        \"Epoch %d Train loss: %.2f. Validation loss: %.2f. Elapsed time: %.2fs.\"\n",
    "        % (epoch + 1, train_losses[-1], val_losses[-1], elapsed)\n",
    "    )\n",
    "#     if abs(train_losses[-1] - val_losses[-1]) <= 0.01:\n",
    "#         torch.save(model.state_dict(), './model_weights/idfsbert_32_valid' + str(val_losses[-1]))\n",
    "#         print('model saved')\n",
    "#         count=0\n",
    "#     else:\n",
    "#         count+=1\n",
    "#         if count>=5:\n",
    "#             break"
   ]
  },
  {
   "cell_type": "code",
   "execution_count": 70,
   "metadata": {},
   "outputs": [],
   "source": [
    "import matplotlib.pyplot as plt"
   ]
  },
  {
   "cell_type": "code",
   "execution_count": 72,
   "metadata": {
    "scrolled": true
   },
   "outputs": [
    {
     "data": {
      "text/plain": [
       "KimCNN(\n",
       "  (embed): Embedding(98, 768)\n",
       "  (convs1): ModuleList(\n",
       "    (0): Conv2d(1, 3, kernel_size=(2, 768), stride=(1, 1))\n",
       "    (1): Conv2d(1, 3, kernel_size=(3, 768), stride=(1, 1))\n",
       "    (2): Conv2d(1, 3, kernel_size=(4, 768), stride=(1, 1))\n",
       "  )\n",
       "  (dropout): Dropout(p=0.5, inplace=False)\n",
       "  (fc1): Linear(in_features=9, out_features=2, bias=True)\n",
       "  (sigmoid): Sigmoid()\n",
       ")"
      ]
     },
     "execution_count": 72,
     "metadata": {},
     "output_type": "execute_result"
    }
   ],
   "source": [
    "model.eval()"
   ]
  },
  {
   "cell_type": "code",
   "execution_count": 73,
   "metadata": {},
   "outputs": [],
   "source": [
    "with torch.no_grad():\n",
    "    y_pred = model(x_test)"
   ]
  },
  {
   "cell_type": "code",
   "execution_count": 74,
   "metadata": {},
   "outputs": [],
   "source": [
    "loss = loss_fn(y_pred, y_test)\n",
    "test_loss = loss.item()"
   ]
  },
  {
   "cell_type": "code",
   "execution_count": 75,
   "metadata": {},
   "outputs": [],
   "source": [
    "from sklearn.metrics import precision_recall_fscore_support,classification_report\n"
   ]
  },
  {
   "cell_type": "code",
   "execution_count": 76,
   "metadata": {},
   "outputs": [
    {
     "name": "stdout",
     "output_type": "stream",
     "text": [
      "Classification report:\n",
      "               precision    recall  f1-score   support\n",
      "\n",
      "       False       0.68      0.64      0.66       727\n",
      "        True       0.56      0.61      0.58       556\n",
      "\n",
      "   micro avg       0.62      0.62      0.62      1283\n",
      "   macro avg       0.62      0.62      0.62      1283\n",
      "weighted avg       0.63      0.62      0.63      1283\n",
      "\n"
     ]
    }
   ],
   "source": [
    "y2=[]\n",
    "for q in y_pred:\n",
    "    if(q[0]>0.5):\n",
    "        y2.append(True)\n",
    "    else:\n",
    "        y2.append(False)\n",
    "\n",
    "y_test_truth=[]\n",
    "for p in test_labels:\n",
    "    if(p[0]>0.5):\n",
    "        y_test_truth.append(True)\n",
    "    else:\n",
    "        y_test_truth.append(False)\n",
    "\n",
    "print('Classification report:\\n',classification_report(y_test_truth,y2))"
   ]
  },
  {
   "cell_type": "code",
   "execution_count": 77,
   "metadata": {},
   "outputs": [
    {
     "name": "stdout",
     "output_type": "stream",
     "text": [
      "Confusion Matrix\n",
      "[[462 265]\n",
      " [217 339]]\n"
     ]
    }
   ],
   "source": [
    "from sklearn.metrics import confusion_matrix\n",
    "cm = confusion_matrix(y_test_truth, y2)\n",
    "print('Confusion Matrix')\n",
    "print(cm)"
   ]
  },
  {
   "cell_type": "code",
   "execution_count": 78,
   "metadata": {},
   "outputs": [
    {
     "name": "stdout",
     "output_type": "stream",
     "text": [
      "Accuracy: 0.6243180046765393\n"
     ]
    }
   ],
   "source": [
    "acc = (cm[0][0] + cm[1][1])/(cm[0][0]+cm[0][1]+cm[1][0]+cm[1][1])\n",
    "\n",
    "print('Accuracy: ' + str(acc))"
   ]
  },
  {
   "cell_type": "code",
   "execution_count": 71,
   "metadata": {
    "scrolled": false
   },
   "outputs": [
    {
     "data": {
      "text/plain": [
       "Text(0.5, 1.0, 'Losses')"
      ]
     },
     "execution_count": 71,
     "metadata": {},
     "output_type": "execute_result"
    },
    {
     "data": {
      "image/png": "[encoded data removed]",
      "text/plain": [
       "<Figure size 432x288 with 1 Axes>"
      ]
     },
     "metadata": {
      "needs_background": "light"
     },
     "output_type": "display_data"
    }
   ],
   "source": [
    "plt.plot(train_losses, label=\"Training loss\")\n",
    "plt.plot(val_losses, label=\"Validation loss\")\n",
    "plt.legend()\n",
    "plt.title(\"Losses\")"
   ]
  },
  {
   "cell_type": "markdown",
   "metadata": {},
   "source": [
    "# Multi class classfication"
   ]
  },
  {
   "cell_type": "code",
   "execution_count": null,
   "metadata": {},
   "outputs": [],
   "source": []
  },
  {
   "cell_type": "code",
   "execution_count": null,
   "metadata": {},
   "outputs": [],
   "source": []
  }
 ],
 "metadata": {
  "kernelspec": {
   "display_name": "Python 3",
   "language": "python",
   "name": "python3"
  },
  "language_info": {
   "codemirror_mode": {
    "name": "ipython",
    "version": 3
   },
   "file_extension": ".py",
   "mimetype": "text/x-python",
   "name": "python",
   "nbconvert_exporter": "python",
   "pygments_lexer": "ipython3",
   "version": "3.7.1"
  }
 },
 "nbformat": 4,
 "nbformat_minor": 2
}
