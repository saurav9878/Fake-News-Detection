{
 "cells": [
  {
   "cell_type": "code",
   "execution_count": 1,
   "metadata": {},
   "outputs": [],
   "source": [
    "import transformers\n",
    "import numpy as np\n",
    "import pandas as pd\n",
    "import torch\n",
    "import tensorflow as tf"
   ]
  },
  {
   "cell_type": "code",
   "execution_count": 2,
   "metadata": {},
   "outputs": [],
   "source": [
    "def read_data(filename):\n",
    "    df = pd.read_csv(filename,engine='python', delimiter=r'\\t+', names=['id', 'Label','Statement', 'subject', 'speaker','speaker_title','state', 'party','barely_true','false_counts','half_true','mostly_true','pants_on_fire','context'])\n",
    "    labels=[]\n",
    "    for l in df['Label']:\n",
    "        if l in ['false','barely-true','pants-fire']:\n",
    "            labels.append(1)\n",
    "        elif l in ['half-true','mostly-true', 'true']:\n",
    "            labels.append(0)\n",
    "        else:\n",
    "            raise Exception(\"Error encountered in labelling\")\n",
    "    data = pd.concat([df['Statement'], pd.Series(labels)], axis=1)\n",
    "    data.columns = ['Statement', 'Label']\n",
    "    return data"
   ]
  },
  {
   "cell_type": "code",
   "execution_count": 50,
   "metadata": {},
   "outputs": [],
   "source": [
    "data_train = read_data('./LIAR_dataset/train.tsv')\n",
    "data_test = read_data('./LIAR_dataset/test.tsv')\n",
    "data_valid = read_data('./LIAR_dataset/valid.tsv')\n",
    "data_train = pd.concat([data_train, data_valid])\n",
    "\n",
    "\n",
    "train_labels = np.asarray(data_train['Label'])\n",
    "test_labels = np.asarray(data_test['Label'])"
   ]
  },
  {
   "cell_type": "code",
   "execution_count": 51,
   "metadata": {},
   "outputs": [],
   "source": [
    "data_train = data_train[:5000]"
   ]
  },
  {
   "cell_type": "code",
   "execution_count": 52,
   "metadata": {},
   "outputs": [],
   "source": [
    "train_labels = train_labels[:5000]"
   ]
  },
  {
   "cell_type": "code",
   "execution_count": 53,
   "metadata": {
    "scrolled": true
   },
   "outputs": [
    {
     "name": "stderr",
     "output_type": "stream",
     "text": [
      "Some weights of the model checkpoint at distilbert-base-uncased were not used when initializing TFDistilBertForSequenceClassification: ['vocab_layer_norm', 'activation_13', 'vocab_transform', 'vocab_projector']\n",
      "- This IS expected if you are initializing TFDistilBertForSequenceClassification from the checkpoint of a model trained on another task or with another architecture (e.g. initializing a BertForSequenceClassification model from a BertForPretraining model).\n",
      "- This IS NOT expected if you are initializing TFDistilBertForSequenceClassification from the checkpoint of a model that you expect to be exactly identical (initializing a BertForSequenceClassification model from a BertForSequenceClassification model).\n",
      "Some weights of TFDistilBertForSequenceClassification were not initialized from the model checkpoint at distilbert-base-uncased and are newly initialized: ['classifier', 'pre_classifier', 'dropout_79']\n",
      "You should probably TRAIN this model on a down-stream task to be able to use it for predictions and inference.\n"
     ]
    }
   ],
   "source": [
    "dbert_tokenizer = transformers.DistilBertTokenizer.from_pretrained('distilbert-base-uncased')\n",
    "dbert_model = transformers.TFDistilBertForSequenceClassification.from_pretrained('distilbert-base-uncased')"
   ]
  },
  {
   "cell_type": "code",
   "execution_count": 55,
   "metadata": {},
   "outputs": [],
   "source": [
    "# small_train = data_train.Statement.iloc[:10]\n",
    "# train_tokenized = data_train.Statement.apply((lambda x: dbert_tokenizer.encode(x, add_special_tokens=True, max_length=128, padding='max_length')))\n",
    "train_tokenized = data_train.Statement.apply((lambda x: dbert_tokenizer.encode(x, add_special_tokens=True)))"
   ]
  },
  {
   "cell_type": "code",
   "execution_count": 56,
   "metadata": {},
   "outputs": [],
   "source": [
    "test_tokenized = data_test.Statement.apply((lambda x: dbert_tokenizer.encode(x, add_special_tokens=True)))"
   ]
  },
  {
   "cell_type": "code",
   "execution_count": 59,
   "metadata": {},
   "outputs": [],
   "source": [
    "max_len = 0\n",
    "for i in train_tokenized.values:\n",
    "    if len(i) > max_len:\n",
    "        max_len = len(i)\n",
    "\n",
    "padded = np.array([i + [0]*(max_len-len(i)) for i in train_tokenized.values])"
   ]
  },
  {
   "cell_type": "code",
   "execution_count": 64,
   "metadata": {},
   "outputs": [],
   "source": [
    "max_len = 98\n",
    "for i in test_tokenized.values:\n",
    "    if len(i) > max_len:\n",
    "        max_len = len(i)\n",
    "\n",
    "padded = np.array([i + [0]*(max_len-len(i)) for i in test_tokenized.values])"
   ]
  },
  {
   "cell_type": "code",
   "execution_count": 63,
   "metadata": {},
   "outputs": [
    {
     "name": "stdout",
     "output_type": "stream",
     "text": [
      "(5000, 98)\n"
     ]
    }
   ],
   "source": [
    "attention_mask = np.where(padded != 0, 1, 0)\n",
    "print(attention_mask.shape)"
   ]
  },
  {
   "cell_type": "code",
   "execution_count": null,
   "metadata": {},
   "outputs": [],
   "source": [
    "train_labels = torch.tensor(train_labels)\n",
    "train_labels"
   ]
  },
  {
   "cell_type": "code",
   "execution_count": 60,
   "metadata": {},
   "outputs": [],
   "source": [
    "optimizer = tf.keras.optimizers.Adam(learning_rate=3e-05, epsilon=1e-08)\n",
    "loss = tf.keras.losses.SparseCategoricalCrossentropy(from_logits=True)\n",
    "metric = tf.keras.metrics.SparseCategoricalAccuracy(name='accuracy')\n",
    "dbert_model.compile(optimizer=optimizer,\n",
    "              loss=loss,\n",
    "              metrics=[metric])\n"
   ]
  },
  {
   "cell_type": "code",
   "execution_count": 61,
   "metadata": {
    "scrolled": true
   },
   "outputs": [
    {
     "name": "stdout",
     "output_type": "stream",
     "text": [
      "Train on 5000 samples\n",
      "Epoch 1/10\n",
      "5000/5000 [==============================] - 27s 5ms/sample - loss: 0.6712 - accuracy: 0.5806\n",
      "Epoch 2/10\n",
      "5000/5000 [==============================] - 21s 4ms/sample - loss: 0.6244 - accuracy: 0.6406\n",
      "Epoch 3/10\n",
      "5000/5000 [==============================] - 20s 4ms/sample - loss: 0.5122 - accuracy: 0.7452\n",
      "Epoch 4/10\n",
      "5000/5000 [==============================] - 20s 4ms/sample - loss: 0.2866 - accuracy: 0.8824\n",
      "Epoch 5/10\n",
      "5000/5000 [==============================] - 20s 4ms/sample - loss: 0.1082 - accuracy: 0.9642\n",
      "Epoch 6/10\n",
      "5000/5000 [==============================] - 21s 4ms/sample - loss: 0.0741 - accuracy: 0.9750\n",
      "Epoch 7/10\n",
      "5000/5000 [==============================] - 20s 4ms/sample - loss: 0.0486 - accuracy: 0.9846\n",
      "Epoch 8/10\n",
      "5000/5000 [==============================] - 21s 4ms/sample - loss: 0.0434 - accuracy: 0.9852\n",
      "Epoch 9/10\n",
      "5000/5000 [==============================] - 21s 4ms/sample - loss: 0.0302 - accuracy: 0.9896\n",
      "Epoch 10/10\n",
      "5000/5000 [==============================] - 21s 4ms/sample - loss: 0.0338 - accuracy: 0.9892\n"
     ]
    },
    {
     "data": {
      "text/plain": [
       "<tensorflow.python.keras.callbacks.History at 0x7fa838682160>"
      ]
     },
     "execution_count": 61,
     "metadata": {},
     "output_type": "execute_result"
    }
   ],
   "source": [
    "dbert_model.fit(padded,train_labels, epochs=10)"
   ]
  },
  {
   "cell_type": "code",
   "execution_count": 65,
   "metadata": {},
   "outputs": [
    {
     "name": "stdout",
     "output_type": "stream",
     "text": [
      "1283/1283 [==============================] - 3s 3ms/sample - loss: 1.8402 - accuracy: 0.6134\n",
      "Test Accuracy: 0.61340606\n",
      "Classification report:\n",
      "               precision    recall  f1-score   support\n",
      "\n",
      "           0       0.43      0.27      0.33       727\n",
      "           1       0.36      0.53      0.43       556\n",
      "\n",
      "   micro avg       0.38      0.38      0.38      1283\n",
      "   macro avg       0.39      0.40      0.38      1283\n",
      "weighted avg       0.40      0.38      0.37      1283\n",
      "\n"
     ]
    }
   ],
   "source": [
    "score=dbert_model.evaluate(padded,test_labels,verbose=1)\n",
    "print('Test Accuracy: '+str(score[1]))\n",
    "# print('Test F1 Score: '+str(score[2]))\n",
    "\n",
    "from sklearn.metrics import precision_recall_fscore_support,classification_report\n",
    "y_pred=dbert_model.predict(padded)\n",
    "#print(y_pred)\n",
    "y2=[]\n",
    "for q in y_pred:\n",
    "    if(q[0]>0.5):\n",
    "        y2.append(True)\n",
    "    else:\n",
    "        y2.append(False)\n",
    "print('Classification report:\\n',classification_report(test_labels,y2))\n",
    "#print('Classification report:\\n',precision_recall_fscore_support(y_test,y_pred))\n",
    "#print(y_pred)"
   ]
  }
 ],
 "metadata": {
  "kernelspec": {
   "display_name": "Python 3",
   "language": "python",
   "name": "python3"
  },
  "language_info": {
   "codemirror_mode": {
    "name": "ipython",
    "version": 3
   },
   "file_extension": ".py",
   "mimetype": "text/x-python",
   "name": "python",
   "nbconvert_exporter": "python",
   "pygments_lexer": "ipython3",
   "version": "3.7.1"
  }
 },
 "nbformat": 4,
 "nbformat_minor": 2
}
