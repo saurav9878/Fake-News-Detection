{
 "cells": [
  {
   "cell_type": "code",
   "execution_count": 1,
   "metadata": {
    "colab": {},
    "colab_type": "code",
    "id": "wpgIO9DUcNrq"
   },
   "outputs": [],
   "source": [
    "# %tensorflow_version 2.x\n",
    "# from tqdm import tqdm\n",
    "import tensorflow as tf"
   ]
  },
  {
   "cell_type": "code",
   "execution_count": null,
   "metadata": {
    "colab": {
     "base_uri": "https://localhost:8080/",
     "height": 151
    },
    "colab_type": "code",
    "id": "0j91fGXZcaJq",
    "outputId": "665933d2-7db4-49d9-96aa-63dc0bb96ceb"
   },
   "outputs": [],
   "source": [
    "!wget https://www.cs.ucsb.edu/~william/data/liar_dataset.zip -q --show-progress\n",
    "!unzip 'liar_dataset.zip' -d LIAR_dataset\n",
    "!wget https://raw.githubusercontent.com/saurav9878/Fake-News-Detection/master/Clean_Texts.py -q --show-progress\n",
    "!wget https://raw.githubusercontent.com/saurav9878/Fake-News-Detection/master/AttentionLayer.py -q --show-progress\n",
    "!mkdir plots"
   ]
  },
  {
   "cell_type": "code",
   "execution_count": 2,
   "metadata": {
    "colab": {
     "base_uri": "https://localhost:8080/",
     "height": 34
    },
    "colab_type": "code",
    "id": "pVCZxBYkca8W",
    "outputId": "fe9fe574-0538-49f8-836f-397f73b77d66"
   },
   "outputs": [
    {
     "name": "stderr",
     "output_type": "stream",
     "text": [
      "Using TensorFlow backend.\n"
     ]
    }
   ],
   "source": [
    "import numpy as np\n",
    "import pandas as pd\n",
    "import pickle\n",
    "from collections import defaultdict\n",
    "import re\n",
    "import sys\n",
    "import os\n",
    "from keras.preprocessing.text import Tokenizer, text_to_word_sequence\n",
    "from keras.preprocessing.sequence import pad_sequences\n",
    "from keras.utils.np_utils import to_categorical\n",
    "\n",
    "from keras.layers import Embedding\n",
    "from keras.layers import Dense, Input, Flatten\n",
    "from keras.layers import Conv1D, MaxPooling1D, Embedding, Activation, LSTM, GRU, Bidirectional, TimeDistributed, BatchNormalization, Dropout\n",
    "from keras.models import Model\n",
    "\n",
    "from keras import backend as K\n",
    "from keras.engine.topology import Layer, InputSpec\n",
    "from keras import initializers\n",
    "#from keras.layers import Merge\n",
    "#replaced by\n",
    "from keras.layers import add\n",
    "\n",
    "# NLTK import, download\n",
    "import nltk\n",
    "from nltk import tokenize # used only for splitting data into words, sentences\n",
    "nltk.download(['punkt', 'stopwords'], quiet=True)\n",
    "\n",
    "from matplotlib import pyplot as plt"
   ]
  },
  {
   "cell_type": "code",
   "execution_count": 3,
   "metadata": {},
   "outputs": [],
   "source": [
    "from sklearn.model_selection import train_test_split\n",
    "from sklearn.linear_model import LogisticRegression\n",
    "# from sklearn.model_selection import GridSearchCV\n",
    "from sklearn.model_selection import cross_val_score"
   ]
  },
  {
   "cell_type": "code",
   "execution_count": 4,
   "metadata": {
    "colab": {},
    "colab_type": "code",
    "id": "vy20FakIcmAg"
   },
   "outputs": [],
   "source": [
    "#import my modules\n",
    "from Clean_Texts import clean_text\n",
    "from AttentionLayer import AttLayer"
   ]
  },
  {
   "cell_type": "code",
   "execution_count": 5,
   "metadata": {
    "colab": {},
    "colab_type": "code",
    "id": "7CH4eH0BcoZd"
   },
   "outputs": [],
   "source": [
    "def read_data(filename):\n",
    "    df = pd.read_csv(filename,engine='python', delimiter=r'\\t+', names=['id', 'Label','Statement', 'subject', 'speaker','speaker_title','state', 'party','barely_true','false_counts','half_true','mostly_true','pants_on_fire','context'])\n",
    "    labels=[]\n",
    "    for l in df['Label']:\n",
    "        if l in ['false','barely-true','pants-fire']:\n",
    "            labels.append(1)\n",
    "        elif l in ['half-true','mostly-true', 'true']:\n",
    "            labels.append(0)\n",
    "        else:\n",
    "            raise Exception(\"Error encountered in labelling\")\n",
    "    data = pd.concat([df['Statement'], pd.Series(labels)], axis=1)\n",
    "    data.columns = ['Statement', 'Label']\n",
    "    return data"
   ]
  },
  {
   "cell_type": "code",
   "execution_count": 6,
   "metadata": {
    "colab": {},
    "colab_type": "code",
    "id": "N8gz-x5Gcq9v"
   },
   "outputs": [],
   "source": [
    "data_train = read_data('LIAR_dataset/train.tsv')\n",
    "data_test = read_data('LIAR_dataset/test.tsv')\n",
    "data_valid = read_data('LIAR_dataset/valid.tsv')\n",
    "data_train = pd.concat([data_train, data_valid])\n",
    "\n",
    "\n",
    "train_labels = np.asarray(data_train['Label'])\n",
    "test_labels = np.asarray(data_test['Label'])"
   ]
  },
  {
   "cell_type": "code",
   "execution_count": null,
   "metadata": {
    "colab": {
     "base_uri": "https://localhost:8080/",
     "height": 513
    },
    "colab_type": "code",
    "id": "nrubb3QqczMn",
    "outputId": "f2c7232e-2b83-4df8-a107-72db3c5dc43b",
    "scrolled": true
   },
   "outputs": [],
   "source": [
    "y_tr = [sum(train_labels), len(train_labels) - sum(train_labels)]\n",
    "x_tr = [\"Fake\", \"Not Fake\"]\n",
    "plt.figure(figsize=(8,8))\n",
    "plt.bar(x_tr,y_tr)\n",
    "for i in range(2):\n",
    "    plt.text(x_tr[i], y_tr[i]+60, str(y_tr[i]),ha='center', color='blue', fontsize=18)\n",
    "plt.ylim(top=7000)\n",
    "plt.xlabel('Class')\n",
    "plt.ylabel('No. of samples')\n",
    "plt.title('Training class distribution')\n",
    "plt.rcParams.update({'font.size': 21})\n",
    "plt.savefig('plots/train_class_dist.png')"
   ]
  },
  {
   "cell_type": "code",
   "execution_count": null,
   "metadata": {
    "colab": {
     "base_uri": "https://localhost:8080/",
     "height": 542
    },
    "colab_type": "code",
    "id": "0MZJnHcTc3YP",
    "outputId": "4d84cf42-0a86-4553-c1ed-fa31a02d918d"
   },
   "outputs": [],
   "source": [
    "y_tr = [sum(test_labels), len(test_labels) - sum(test_labels)]\n",
    "x_tr = [\"Fake\", \"Not Fake\"]\n",
    "plt.figure(figsize=(8,8))\n",
    "plt.bar(x_tr,y_tr)\n",
    "for i in range(2):\n",
    "    plt.text(x_tr[i], y_tr[i]+30, str(y_tr[i]),ha='center', color='blue', fontsize=18)\n",
    "plt.ylim(top=850)\n",
    "plt.xlabel('Class')\n",
    "plt.ylabel('No. of samples')\n",
    "plt.title('Test class distribution')\n",
    "plt.rcParams.update({'font.size': 18})\n",
    "plt.savefig('plots/test_class_dist.png')"
   ]
  },
  {
   "cell_type": "code",
   "execution_count": 7,
   "metadata": {
    "colab": {
     "base_uri": "https://localhost:8080/",
     "height": 754,
     "referenced_widgets": [
      "79b0b5b78b634109abb97d909b09fcae",
      "372d8b727ab946baa641ec670f7e61c2",
      "ca7d66ff79ef4659a31267b6c9dc33fa",
      "c44c2ac326ab4f7687d935863b304d64",
      "856a2fe104e3446ca8bba5e39cef07f7",
      "b21e7121d3b24905bf9e4a717cad6561",
      "963dd56df012493797142d65a35e0024",
      "0cd9fc8e24284a6bb4d0569a5efcc376",
      "8c78f69763dd4bb78429c89db96cd013",
      "d2a282f450f0451db3fe88858c964393",
      "8db92e8851044827b81582a9640e64e5",
      "95472f67414048a89a028ccad8958955",
      "2557e76ed4c54d0681894192ebdcd5c7",
      "32844f5f089041d799cf9694650247a6",
      "baed5802e64e4f61afa82b4581262530",
      "e5fca0210ebf463da45abfb913a88522",
      "09e855a9b29c45cf9938d59ff49dc07a",
      "adb2ecded00547da8759ad135602ec44",
      "9d2814a528d84ec9bb0a8783e2232b19",
      "bfe76d0a905c496fa4091d85c5e59435",
      "9e9ad2046c194e95b89baa316222a446",
      "fb794ce5431a43e08c183132d283fe02",
      "49cdb8c6ec8a4bb8b21939079cd8c814",
      "24bd5aea3817498ba588176c1fe1acc3"
     ]
    },
    "colab_type": "code",
    "id": "SxyQPmTrc5jf",
    "outputId": "8c520431-5539-4ce2-ee1c-e187ab7a9af4"
   },
   "outputs": [],
   "source": [
    "# ! pip install transformers\n",
    "import transformers\n",
    "dbert_tokenizer = transformers.DistilBertTokenizer.from_pretrained('distilbert-base-uncased',)\n",
    "dbert_model = transformers.DistilBertModel.from_pretrained('distilbert-base-uncased')"
   ]
  },
  {
   "cell_type": "code",
   "execution_count": null,
   "metadata": {
    "colab": {},
    "colab_type": "code",
    "id": "gOGFSA8v5iQG"
   },
   "outputs": [],
   "source": [
    "# small_train = data_train.Statement.iloc[:10]\n",
    "# train_tokenized = data_train.Statement.apply((lambda x: dbert_tokenizer.encode(x, add_special_tokens=True, max_length=128, padding='max_length')))\n",
    "train_tokenized = data_train.Statement.apply((lambda x: dbert_tokenizer.encode(x, add_special_tokens=True)))"
   ]
  },
  {
   "cell_type": "code",
   "execution_count": null,
   "metadata": {},
   "outputs": [],
   "source": [
    "test_tokenized = data_test.Statement.apply((lambda x: dbert_tokenizer.encode(x, add_special_tokens=True)))"
   ]
  },
  {
   "cell_type": "markdown",
   "metadata": {
    "colab_type": "text",
    "id": "ZfF7Gq3ezY9H"
   },
   "source": [
    "Masking"
   ]
  },
  {
   "cell_type": "code",
   "execution_count": null,
   "metadata": {
    "colab": {},
    "colab_type": "code",
    "id": "9hNDjTfSy5MO"
   },
   "outputs": [],
   "source": [
    "max_len = 0\n",
    "for i in train_tokenized.values:\n",
    "    if len(i) > max_len:\n",
    "        max_len = len(i)\n",
    "\n",
    "padded = np.array([i + [0]*(max_len-len(i)) for i in train_tokenized.values])"
   ]
  },
  {
   "cell_type": "code",
   "execution_count": null,
   "metadata": {},
   "outputs": [],
   "source": [
    "max_len = 98\n",
    "for i in test_tokenized.values:\n",
    "    if len(i) > max_len:\n",
    "        max_len = len(i)\n",
    "\n",
    "test_padded = np.array([i + [0]*(max_len-len(i)) for i in test_tokenized.values])"
   ]
  },
  {
   "cell_type": "code",
   "execution_count": null,
   "metadata": {
    "colab": {
     "base_uri": "https://localhost:8080/",
     "height": 34
    },
    "colab_type": "code",
    "id": "sbaEipVjyTXd",
    "outputId": "0eba8e56-9363-4a9a-9100-8d7d6d61f223"
   },
   "outputs": [],
   "source": [
    "print('Shape of features after padding: ' + str(padded.shape))"
   ]
  },
  {
   "cell_type": "code",
   "execution_count": null,
   "metadata": {},
   "outputs": [],
   "source": []
  },
  {
   "cell_type": "markdown",
   "metadata": {
    "colab_type": "text",
    "id": "hQ-E0m7QzdXW"
   },
   "source": [
    "Masking to ignore 0's for distilbert else it'll get confused"
   ]
  },
  {
   "cell_type": "code",
   "execution_count": null,
   "metadata": {
    "colab": {
     "base_uri": "https://localhost:8080/",
     "height": 34
    },
    "colab_type": "code",
    "id": "Km4-kW5JzM_D",
    "outputId": "03837043-47bb-4c99-cef4-3cae6ef3d1a4"
   },
   "outputs": [],
   "source": [
    "attention_mask = np.where(padded != 0, 1, 0)\n",
    "print(attention_mask.shape)"
   ]
  },
  {
   "cell_type": "code",
   "execution_count": null,
   "metadata": {
    "colab": {},
    "colab_type": "code",
    "id": "w7FtVneW0ClH"
   },
   "outputs": [],
   "source": [
    "import torch"
   ]
  },
  {
   "cell_type": "code",
   "execution_count": null,
   "metadata": {
    "colab": {
     "base_uri": "https://localhost:8080/",
     "height": 70
    },
    "colab_type": "code",
    "id": "xeUbkoSYzt6g",
    "outputId": "2b48cb7d-09be-43cd-b584-644447f128d3"
   },
   "outputs": [],
   "source": [
    "input_ids = torch.tensor(padded)  \n",
    "attention_mask = torch.tensor(attention_mask)\n",
    "\n",
    "with torch.no_grad():\n",
    "    last_hidden_states = dbert_model(input_ids, attention_mask=attention_mask)"
   ]
  },
  {
   "cell_type": "code",
   "execution_count": null,
   "metadata": {},
   "outputs": [],
   "source": [
    "import h5py"
   ]
  },
  {
   "cell_type": "code",
   "execution_count": null,
   "metadata": {},
   "outputs": [],
   "source": [
    "last_hidden_states[0].shape"
   ]
  },
  {
   "cell_type": "code",
   "execution_count": null,
   "metadata": {},
   "outputs": [],
   "source": [
    "with h5py.File('./LIAR_dataset/test_clf_features.hdf5', 'w') as f:\n",
    "    dset = f.create_dataset('default', data = last_hidden_states[0][:,0,:].numpy())"
   ]
  },
  {
   "cell_type": "code",
   "execution_count": 8,
   "metadata": {},
   "outputs": [],
   "source": [
    "import h5py"
   ]
  },
  {
   "cell_type": "code",
   "execution_count": 9,
   "metadata": {},
   "outputs": [],
   "source": [
    "with h5py.File('./LIAR_dataset/hidden_features.hdf5', 'r') as f:\n",
    "    train_data = f.get('default').value\n",
    "with h5py.File('./LIAR_dataset/test_features.hdf5', 'r') as g:\n",
    "    test_data = g.get('default').value"
   ]
  },
  {
   "cell_type": "code",
   "execution_count": null,
   "metadata": {},
   "outputs": [],
   "source": [
    "clf_features = data"
   ]
  },
  {
   "cell_type": "code",
   "execution_count": null,
   "metadata": {
    "colab": {},
    "colab_type": "code",
    "id": "0ImFoIw20T_V"
   },
   "outputs": [],
   "source": [
    "clf_features = last_hidden_states[0][:,0,:].numpy()"
   ]
  },
  {
   "cell_type": "code",
   "execution_count": null,
   "metadata": {},
   "outputs": [],
   "source": [
    "features.shape"
   ]
  },
  {
   "cell_type": "code",
   "execution_count": null,
   "metadata": {},
   "outputs": [],
   "source": [
    "full_features = last_hidden_states[0].numpy()"
   ]
  },
  {
   "cell_type": "code",
   "execution_count": null,
   "metadata": {
    "colab": {
     "base_uri": "https://localhost:8080/",
     "height": 34
    },
    "colab_type": "code",
    "id": "bMUd33tn9oXe",
    "outputId": "b3e57cb9-f979-4fe8-ad1b-c4fe8ce80e70"
   },
   "outputs": [],
   "source": [
    "# input_tokens=[]\n",
    "# for x in train_tokenized:\n",
    "#     input_tokens.append(x)\n",
    "\n",
    "# input_tokens = np.asarray(input_tokens)\n",
    "# print('Input tokens shape:')\n",
    "# print(input_tokens.shape)\n",
    "# print('--------------------')"
   ]
  },
  {
   "cell_type": "code",
   "execution_count": null,
   "metadata": {
    "colab": {},
    "colab_type": "code",
    "id": "atu9lo54B6EE"
   },
   "outputs": [],
   "source": [
    "# output_tokens = dbert_model(input_tokens)"
   ]
  },
  {
   "cell_type": "code",
   "execution_count": null,
   "metadata": {
    "colab": {},
    "colab_type": "code",
    "id": "rx8kv_LpdKpd"
   },
   "outputs": [],
   "source": [
    "# from transformers import pipeline\n",
    "# feature_pipeline = pipeline('feature-extraction', model=dbert_model, tokenizer=dbert_tokenizer(max_length=20, add_special_tokens=True,padding='max-length'), framework='tf')"
   ]
  },
  {
   "cell_type": "code",
   "execution_count": null,
   "metadata": {
    "colab": {},
    "colab_type": "code",
    "id": "9mQpsdJ6qbBg"
   },
   "outputs": [],
   "source": [
    "# import numpy as np\n",
    "# np.asarray(feature_pipeline('Hello World', max_length =2)).shape"
   ]
  },
  {
   "cell_type": "code",
   "execution_count": null,
   "metadata": {
    "colab": {},
    "colab_type": "code",
    "id": "M5xBS-EoFaGE"
   },
   "outputs": [],
   "source": [
    "# feature_extracted = feature_pipeline(list(data_train.Statement)[:10])"
   ]
  },
  {
   "cell_type": "code",
   "execution_count": null,
   "metadata": {
    "colab": {},
    "colab_type": "code",
    "id": "kKQpR3GPzx5b"
   },
   "outputs": [],
   "source": [
    "# test_tokenized = data_test.Statement.apply((lambda x: dbert_tokenizer.encode(x, add_special_tokens=True, max_length=128, padding='max_length')))\n",
    "# input_test_tokens=[]\n",
    "# for x in test_tokenized:\n",
    "#     input_test_tokens.append(x)\n",
    "\n",
    "# input_test_tokens = np.asarray(input_test_tokens)\n",
    "\n",
    "# test_features = dbert_model(input_test_tokens)"
   ]
  },
  {
   "cell_type": "code",
   "execution_count": null,
   "metadata": {
    "colab": {},
    "colab_type": "code",
    "id": "zdZ0AHRu0yfi"
   },
   "outputs": [],
   "source": [
    "# test_features = np.asarray(test_features)\n"
   ]
  },
  {
   "cell_type": "code",
   "execution_count": null,
   "metadata": {
    "colab": {
     "base_uri": "https://localhost:8080/",
     "height": 34
    },
    "colab_type": "code",
    "id": "gVi6q30kfVsE",
    "outputId": "5c72996b-71a9-4713-afa5-847b4b5b891b"
   },
   "outputs": [],
   "source": [
    "# features_array = np.asarray(feature_extracted)\n",
    "# print('Features array shape:')\n",
    "# print(features_array.shape) # (Samples, Tokens, Vector Size)\n",
    "# print('---------------------')"
   ]
  },
  {
   "cell_type": "code",
   "execution_count": null,
   "metadata": {
    "colab": {},
    "colab_type": "code",
    "id": "ZR4TepleqUix"
   },
   "outputs": [],
   "source": [
    "# MAX_TOKENS = 128"
   ]
  },
  {
   "cell_type": "code",
   "execution_count": null,
   "metadata": {
    "colab": {},
    "colab_type": "code",
    "id": "fTOWI5dfo9ns"
   },
   "outputs": [],
   "source": [
    "# features = np.squeeze(features_array)\n",
    "# features = features[:,0,:]\n",
    "# features.shape"
   ]
  },
  {
   "cell_type": "code",
   "execution_count": null,
   "metadata": {
    "colab": {},
    "colab_type": "code",
    "id": "6c1-7VImFpbd"
   },
   "outputs": [],
   "source": [
    "# import tensorflow as tf"
   ]
  },
  {
   "cell_type": "code",
   "execution_count": 17,
   "metadata": {
    "colab": {},
    "colab_type": "code",
    "id": "Uc9eTsdkyNFd"
   },
   "outputs": [],
   "source": [
    "# labels = train_labels[:10]\n",
    "labels = train_labels.reshape(-1,1)"
   ]
  },
  {
   "cell_type": "code",
   "execution_count": null,
   "metadata": {},
   "outputs": [],
   "source": [
    "train_features, test_features, train_labels, test_labels = train_test_split(train_data, labels)"
   ]
  },
  {
   "cell_type": "code",
   "execution_count": 18,
   "metadata": {},
   "outputs": [],
   "source": [
    "#full_features\n",
    "train_features, valid_features, train_labels, valid_labels = train_test_split(train_data, labels)"
   ]
  },
  {
   "cell_type": "code",
   "execution_count": null,
   "metadata": {
    "scrolled": true
   },
   "outputs": [],
   "source": []
  },
  {
   "cell_type": "code",
   "execution_count": null,
   "metadata": {},
   "outputs": [],
   "source": []
  },
  {
   "cell_type": "code",
   "execution_count": null,
   "metadata": {},
   "outputs": [],
   "source": [
    "lr_clf = LogisticRegression()\n",
    "lr_clf.fit(train_features, train_labels)"
   ]
  },
  {
   "cell_type": "code",
   "execution_count": null,
   "metadata": {},
   "outputs": [],
   "source": [
    "lr_score = lr_clf.score(va_features, test_labels)\n",
    "print('Accuracy achieved by Logistic Regression: ' + str(lr_score*100) + '%')"
   ]
  },
  {
   "cell_type": "markdown",
   "metadata": {},
   "source": [
    "## Accuracy achieved by Logistic Regression: 61.509172724125996%"
   ]
  },
  {
   "cell_type": "code",
   "execution_count": 10,
   "metadata": {
    "colab": {},
    "colab_type": "code",
    "id": "ANXMz257vhpG"
   },
   "outputs": [],
   "source": [
    "#customized f1 score function for passing into model metrics:\n",
    "def F1_Score(y_true, y_pred): #taken from old keras source code\n",
    "    true_positives = K.sum(K.round(K.clip(y_true * y_pred, 0, 1)))\n",
    "    possible_positives = K.sum(K.round(K.clip(y_true, 0, 1)))\n",
    "    predicted_positives = K.sum(K.round(K.clip(y_pred, 0, 1)))\n",
    "    precision = true_positives / (predicted_positives + K.epsilon())\n",
    "    recall = true_positives / (possible_positives + K.epsilon())\n",
    "    f1_val = 2*(precision*recall)/(precision+recall+K.epsilon())\n",
    "    return f1_val"
   ]
  },
  {
   "cell_type": "code",
   "execution_count": 11,
   "metadata": {},
   "outputs": [],
   "source": [
    "import tensorflow as tf"
   ]
  },
  {
   "cell_type": "code",
   "execution_count": 12,
   "metadata": {},
   "outputs": [
    {
     "name": "stdout",
     "output_type": "stream",
     "text": [
      "Num GPUs Available:  1\n"
     ]
    }
   ],
   "source": [
    "print(\"Num GPUs Available: \", len(tf.config.experimental.list_physical_devices('GPU')))"
   ]
  },
  {
   "cell_type": "code",
   "execution_count": 77,
   "metadata": {
    "colab": {
     "base_uri": "https://localhost:8080/",
     "height": 1000
    },
    "colab_type": "code",
    "id": "RhsP9Kn2vhsi",
    "outputId": "6e0acfee-62e3-40de-b341-54d2d82b2055",
    "scrolled": true
   },
   "outputs": [
    {
     "name": "stdout",
     "output_type": "stream",
     "text": [
      "tracking <tf.Variable 'att_layer_7/Variable:0' shape=(200, 100) dtype=float32> W\n",
      "tracking <tf.Variable 'att_layer_7/Variable:0' shape=(100,) dtype=float32> b\n",
      "tracking <tf.Variable 'att_layer_7/Variable:0' shape=(100, 1) dtype=float32> u\n",
      "Model: \"model_7\"\n",
      "_________________________________________________________________\n",
      "Layer (type)                 Output Shape              Param #   \n",
      "=================================================================\n",
      "input_7 (InputLayer)         (None, 98, 768)           0         \n",
      "_________________________________________________________________\n",
      "conv1d_7 (Conv1D)            (None, 96, 8)             18440     \n",
      "_________________________________________________________________\n",
      "batch_normalization_7 (Batch (None, 96, 8)             32        \n",
      "_________________________________________________________________\n",
      "activation_7 (Activation)    (None, 96, 8)             0         \n",
      "_________________________________________________________________\n",
      "max_pooling1d_7 (MaxPooling1 (None, 48, 8)             0         \n",
      "_________________________________________________________________\n",
      "bidirectional_7 (Bidirection (None, 48, 200)           65400     \n",
      "_________________________________________________________________\n",
      "att_layer_7 (AttLayer)       (None, 200)               20200     \n",
      "_________________________________________________________________\n",
      "dropout_6 (Dropout)          (None, 200)               0         \n",
      "_________________________________________________________________\n",
      "dense_7 (Dense)              (None, 1)                 201       \n",
      "=================================================================\n",
      "Total params: 104,273\n",
      "Trainable params: 104,257\n",
      "Non-trainable params: 16\n",
      "_________________________________________________________________\n"
     ]
    }
   ],
   "source": [
    "# tf.debugging.set_log_device_placement(True)\n",
    "\n",
    "# strategy = tf.distribute.MirroredStrategy()\n",
    "\n",
    "# with strategy.scope():\n",
    "#     model = Sequential([\n",
    "#         Input(shape=(98,768,), dtype='float32'),\n",
    "#         Conv1D(filters=100,kernel_size=3,padding='valid'),\n",
    "#         BatchNormalization(),\n",
    "#         Activation('relu'),\n",
    "#         MaxPooling1D(pool_size=2),\n",
    "#         Bidirectional(GRU(100, return_sequences=True)),\n",
    "#         AttLayer(100),\n",
    "#         Dropout(0.2),\n",
    "#         Dense(1, activation='sigmoid')\n",
    "#   ])\n",
    "#     model.compile(loss='binary_crossentropy',\n",
    "#                   optimizer='adam',\n",
    "#                   metrics=['accuracy',F1_Score,])\n",
    "\n",
    "embedded_sequences = Input(shape=(98,768,), dtype='float32')\n",
    "c=Conv1D(filters=8,kernel_size=3,padding='valid')(embedded_sequences)\n",
    "bn = BatchNormalization()(c)\n",
    "actv = Activation('relu')(bn)\n",
    "maxPool = MaxPooling1D(pool_size=2)(actv)\n",
    "l_lstm = Bidirectional( GRU(100, return_sequences=True))(maxPool)\n",
    "l_att = AttLayer(100)(l_lstm)\n",
    "drp = Dropout(0.5)(l_att)\n",
    "preds = Dense(1, activation='sigmoid')(drp)\n",
    "model_Att = Model(embedded_sequences, preds)\n",
    "model_Att.summary()\n",
    "\n",
    "# from keras.utils.vis_utils import plot_model\n",
    "# plot_model(model_Att, to_file='plots/model_plot.png', show_shapes=True, show_layer_names=True, expand_nested=True)\n",
    "\n",
    "model_Att.compile(loss='binary_crossentropy',\n",
    "              optimizer='adam',\n",
    "              metrics=['accuracy',F1_Score,])\n",
    "K.set_value(model_Att.optimizer.learning_rate, 0.00025)\n",
    "\n",
    "\n",
    "# score=model_Att.evaluate(x_test,y_test,verbose=1)\n",
    "# print('Test Accuracy: '+str(score[1]))\n",
    "# print('Test F1 Score: '+str(score[2]))\n",
    "\n",
    "# from sklearn.metrics import precision_recall_fscore_support,classification_report\n",
    "# y_pred=model_Att.predict(x_test)\n",
    "# #print(y_pred)\n",
    "# y2=[]\n",
    "# for q in y_pred:\n",
    "#   if(q[0]>0.5):\n",
    "#     y2.append(True)\n",
    "#   else:\n",
    "#     y2.append(False)\n",
    "# print('Classification report:\\n',classification_report(y_test,y2))\n",
    "# #print('Classification report:\\n',precision_recall_fscore_support(y_test,y_pred))\n",
    "# #print(y_pred)"
   ]
  },
  {
   "cell_type": "code",
   "execution_count": 78,
   "metadata": {},
   "outputs": [],
   "source": [
    "from keras.callbacks import EarlyStopping\n"
   ]
  },
  {
   "cell_type": "code",
   "execution_count": 79,
   "metadata": {},
   "outputs": [],
   "source": [
    "es = EarlyStopping(monitor='val_loss', mode='min',patience=3, verbose=1)"
   ]
  },
  {
   "cell_type": "code",
   "execution_count": 80,
   "metadata": {
    "scrolled": true
   },
   "outputs": [
    {
     "name": "stdout",
     "output_type": "stream",
     "text": [
      "Train on 8664 samples, validate on 2889 samples\n",
      "Epoch 1/20\n",
      "8664/8664 [==============================] - 35s 4ms/step - loss: 0.6700 - accuracy: 0.5840 - F1_Score: 0.4432 - val_loss: 0.6519 - val_accuracy: 0.6213 - val_F1_Score: 0.4635\n",
      "Epoch 2/20\n",
      "8664/8664 [==============================] - 33s 4ms/step - loss: 0.6543 - accuracy: 0.6125 - F1_Score: 0.5345 - val_loss: 0.6460 - val_accuracy: 0.6248 - val_F1_Score: 0.4705\n",
      "Epoch 3/20\n",
      "8664/8664 [==============================] - 34s 4ms/step - loss: 0.6437 - accuracy: 0.6309 - F1_Score: 0.5536 - val_loss: 0.6450 - val_accuracy: 0.6203 - val_F1_Score: 0.4580\n",
      "Epoch 4/20\n",
      "8664/8664 [==============================] - 34s 4ms/step - loss: 0.6368 - accuracy: 0.6413 - F1_Score: 0.5719 - val_loss: 0.6496 - val_accuracy: 0.6199 - val_F1_Score: 0.4987\n",
      "Epoch 5/20\n",
      "8664/8664 [==============================] - 34s 4ms/step - loss: 0.6297 - accuracy: 0.6484 - F1_Score: 0.5662 - val_loss: 0.6542 - val_accuracy: 0.6154 - val_F1_Score: 0.5563\n",
      "Epoch 6/20\n",
      "8664/8664 [==============================] - 34s 4ms/step - loss: 0.6220 - accuracy: 0.6558 - F1_Score: 0.5824 - val_loss: 0.6622 - val_accuracy: 0.6113 - val_F1_Score: 0.5718\n",
      "Epoch 00006: early stopping\n"
     ]
    }
   ],
   "source": [
    "history = model_Att.fit(train_features, train_labels, validation_data=(valid_features, valid_labels),\n",
    "          epochs=20, batch_size=32, callbacks=[es])"
   ]
  },
  {
   "cell_type": "code",
   "execution_count": 81,
   "metadata": {
    "colab": {
     "base_uri": "https://localhost:8080/",
     "height": 235
    },
    "colab_type": "code",
    "id": "R9mquCcZz6Vu",
    "outputId": "c7c2243e-6079-4b75-f470-6179dc9d0449"
   },
   "outputs": [
    {
     "name": "stdout",
     "output_type": "stream",
     "text": [
      "1283/1283 [==============================] - 2s 1ms/step\n",
      "Test Accuracy: 0.6134060621261597\n",
      "Test F1 Score: 0.5935375690460205\n",
      "Classification report:\n",
      "               precision    recall  f1-score   support\n",
      "\n",
      "           0       0.68      0.59      0.63       727\n",
      "           1       0.55      0.64      0.59       556\n",
      "\n",
      "   micro avg       0.61      0.61      0.61      1283\n",
      "   macro avg       0.61      0.62      0.61      1283\n",
      "weighted avg       0.62      0.61      0.62      1283\n",
      "\n"
     ]
    }
   ],
   "source": [
    "score=model_Att.evaluate(test_data,test_labels,verbose=1)\n",
    "print('Test Accuracy: '+str(score[1]))\n",
    "print('Test F1 Score: '+str(score[2]))\n",
    "\n",
    "from sklearn.metrics import precision_recall_fscore_support,classification_report\n",
    "y_pred=model_Att.predict(test_data)\n",
    "#print(y_pred)\n",
    "y2=[]\n",
    "for q in y_pred:\n",
    "    if(q[0]>0.5):\n",
    "        y2.append(True)\n",
    "    else:\n",
    "        y2.append(False)\n",
    "print('Classification report:\\n',classification_report(test_labels,y2))\n",
    "#print('Classification report:\\n',precision_recall_fscore_support(y_test,y_pred))\n",
    "#print(y_pred)"
   ]
  },
  {
   "cell_type": "code",
   "execution_count": 82,
   "metadata": {
    "colab": {
     "base_uri": "https://localhost:8080/",
     "height": 67
    },
    "colab_type": "code",
    "id": "VsLpSaP-wxmy",
    "outputId": "bdac82bf-743f-4505-a371-1c4a1958fb42"
   },
   "outputs": [
    {
     "name": "stdout",
     "output_type": "stream",
     "text": [
      "Confusion Matrix\n",
      "[[430 297]\n",
      " [199 357]]\n"
     ]
    }
   ],
   "source": [
    "from sklearn.metrics import confusion_matrix\n",
    "cm = confusion_matrix(test_labels, y2)\n",
    "print('Confusion Matrix')\n",
    "print(cm)"
   ]
  },
  {
   "cell_type": "code",
   "execution_count": 83,
   "metadata": {
    "colab": {
     "base_uri": "https://localhost:8080/",
     "height": 334
    },
    "colab_type": "code",
    "id": "W5DgZTkWwyps",
    "outputId": "6b538842-9cc8-4203-845e-dc526b9f0f94"
   },
   "outputs": [
    {
     "name": "stdout",
     "output_type": "stream",
     "text": [
      "dict_keys(['val_loss', 'val_accuracy', 'val_F1_Score', 'loss', 'accuracy', 'F1_Score'])\n"
     ]
    },
    {
     "data": {
      "image/png": "[encoded data removed]",
      "text/plain": [
       "<Figure size 432x288 with 1 Axes>"
      ]
     },
     "metadata": {
      "needs_background": "light"
     },
     "output_type": "display_data"
    }
   ],
   "source": [
    "# list all data in history\n",
    "print(history.history.keys())\n",
    "# summarize history for accuracy\n",
    "plt.plot(history.history['accuracy'])\n",
    "plt.plot(history.history['val_accuracy'])\n",
    "plt.title('model accuracy')\n",
    "plt.ylabel('accuracy')\n",
    "plt.xlabel('epoch')\n",
    "plt.legend(['train', 'valid'], loc='upper left')\n",
    "# plt.show()\n",
    "plt.savefig('plots/Model_accuracy.png')"
   ]
  },
  {
   "cell_type": "code",
   "execution_count": 84,
   "metadata": {
    "colab": {
     "base_uri": "https://localhost:8080/",
     "height": 317
    },
    "colab_type": "code",
    "id": "3gdXspk4w0LN",
    "outputId": "1ed19962-6562-4853-8671-103c6690d877"
   },
   "outputs": [
    {
     "data": {
      "image/png": "[encoded data removed]",
      "text/plain": [
       "<Figure size 432x288 with 1 Axes>"
      ]
     },
     "metadata": {
      "needs_background": "light"
     },
     "output_type": "display_data"
    }
   ],
   "source": [
    "# summarize history for loss\n",
    "plt.plot(history.history['loss'])\n",
    "plt.plot(history.history['val_loss'])\n",
    "plt.title('model loss')\n",
    "plt.ylabel('loss')\n",
    "plt.xlabel('epoch')\n",
    "plt.legend(['train', 'valid'], loc='upper left')\n",
    "# plt.show()\n",
    "plt.savefig('plots/Model_loss.png')"
   ]
  },
  {
   "cell_type": "code",
   "execution_count": null,
   "metadata": {},
   "outputs": [],
   "source": []
  },
  {
   "cell_type": "code",
   "execution_count": null,
   "metadata": {},
   "outputs": [],
   "source": []
  },
  {
   "cell_type": "code",
   "execution_count": null,
   "metadata": {},
   "outputs": [],
   "source": []
  },
  {
   "cell_type": "code",
   "execution_count": null,
   "metadata": {},
   "outputs": [],
   "source": []
  },
  {
   "cell_type": "code",
   "execution_count": null,
   "metadata": {},
   "outputs": [],
   "source": []
  },
  {
   "cell_type": "code",
   "execution_count": null,
   "metadata": {},
   "outputs": [],
   "source": []
  },
  {
   "cell_type": "code",
   "execution_count": null,
   "metadata": {},
   "outputs": [],
   "source": []
  },
  {
   "cell_type": "code",
   "execution_count": null,
   "metadata": {},
   "outputs": [],
   "source": []
  },
  {
   "cell_type": "code",
   "execution_count": null,
   "metadata": {},
   "outputs": [],
   "source": []
  },
  {
   "cell_type": "code",
   "execution_count": null,
   "metadata": {},
   "outputs": [],
   "source": []
  },
  {
   "cell_type": "code",
   "execution_count": null,
   "metadata": {},
   "outputs": [],
   "source": []
  },
  {
   "cell_type": "code",
   "execution_count": null,
   "metadata": {},
   "outputs": [],
   "source": []
  },
  {
   "cell_type": "code",
   "execution_count": null,
   "metadata": {},
   "outputs": [],
   "source": []
  },
  {
   "cell_type": "code",
   "execution_count": null,
   "metadata": {},
   "outputs": [],
   "source": []
  },
  {
   "cell_type": "code",
   "execution_count": null,
   "metadata": {},
   "outputs": [],
   "source": []
  },
  {
   "cell_type": "code",
   "execution_count": null,
   "metadata": {},
   "outputs": [],
   "source": [
    "\n",
    "\n"
   ]
  }
 ],
 "metadata": {
  "accelerator": "GPU",
  "colab": {
   "collapsed_sections": [],
   "name": "Commented working code - ConvHAN bert",
   "provenance": []
  },
  "kernelspec": {
   "display_name": "Python 3",
   "language": "python",
   "name": "python3"
  },
  "language_info": {
   "codemirror_mode": {
    "name": "ipython",
    "version": 3
   },
   "file_extension": ".py",
   "mimetype": "text/x-python",
   "name": "python",
   "nbconvert_exporter": "python",
   "pygments_lexer": "ipython3",
   "version": "3.7.1"
  },
  "widgets": {
   "application/vnd.jupyter.widget-state+json": {
    "09e855a9b29c45cf9938d59ff49dc07a": {
     "model_module": "@jupyter-widgets/controls",
     "model_name": "HBoxModel",
     "state": {
      "_dom_classes": [],
      "_model_module": "@jupyter-widgets/controls",
      "_model_module_version": "1.5.0",
      "_model_name": "HBoxModel",
      "_view_count": null,
      "_view_module": "@jupyter-widgets/controls",
      "_view_module_version": "1.5.0",
      "_view_name": "HBoxView",
      "box_style": "",
      "children": [
       "IPY_MODEL_9d2814a528d84ec9bb0a8783e2232b19",
       "IPY_MODEL_bfe76d0a905c496fa4091d85c5e59435"
      ],
      "layout": "IPY_MODEL_adb2ecded00547da8759ad135602ec44"
     }
    },
    "0cd9fc8e24284a6bb4d0569a5efcc376": {
     "model_module": "@jupyter-widgets/base",
     "model_name": "LayoutModel",
     "state": {
      "_model_module": "@jupyter-widgets/base",
      "_model_module_version": "1.2.0",
      "_model_name": "LayoutModel",
      "_view_count": null,
      "_view_module": "@jupyter-widgets/base",
      "_view_module_version": "1.2.0",
      "_view_name": "LayoutView",
      "align_content": null,
      "align_items": null,
      "align_self": null,
      "border": null,
      "bottom": null,
      "display": null,
      "flex": null,
      "flex_flow": null,
      "grid_area": null,
      "grid_auto_columns": null,
      "grid_auto_flow": null,
      "grid_auto_rows": null,
      "grid_column": null,
      "grid_gap": null,
      "grid_row": null,
      "grid_template_areas": null,
      "grid_template_columns": null,
      "grid_template_rows": null,
      "height": null,
      "justify_content": null,
      "justify_items": null,
      "left": null,
      "margin": null,
      "max_height": null,
      "max_width": null,
      "min_height": null,
      "min_width": null,
      "object_fit": null,
      "object_position": null,
      "order": null,
      "overflow": null,
      "overflow_x": null,
      "overflow_y": null,
      "padding": null,
      "right": null,
      "top": null,
      "visibility": null,
      "width": null
     }
    },
    "24bd5aea3817498ba588176c1fe1acc3": {
     "model_module": "@jupyter-widgets/base",
     "model_name": "LayoutModel",
     "state": {
      "_model_module": "@jupyter-widgets/base",
      "_model_module_version": "1.2.0",
      "_model_name": "LayoutModel",
      "_view_count": null,
      "_view_module": "@jupyter-widgets/base",
      "_view_module_version": "1.2.0",
      "_view_name": "LayoutView",
      "align_content": null,
      "align_items": null,
      "align_self": null,
      "border": null,
      "bottom": null,
      "display": null,
      "flex": null,
      "flex_flow": null,
      "grid_area": null,
      "grid_auto_columns": null,
      "grid_auto_flow": null,
      "grid_auto_rows": null,
      "grid_column": null,
      "grid_gap": null,
      "grid_row": null,
      "grid_template_areas": null,
      "grid_template_columns": null,
      "grid_template_rows": null,
      "height": null,
      "justify_content": null,
      "justify_items": null,
      "left": null,
      "margin": null,
      "max_height": null,
      "max_width": null,
      "min_height": null,
      "min_width": null,
      "object_fit": null,
      "object_position": null,
      "order": null,
      "overflow": null,
      "overflow_x": null,
      "overflow_y": null,
      "padding": null,
      "right": null,
      "top": null,
      "visibility": null,
      "width": null
     }
    },
    "2557e76ed4c54d0681894192ebdcd5c7": {
     "model_module": "@jupyter-widgets/controls",
     "model_name": "ProgressStyleModel",
     "state": {
      "_model_module": "@jupyter-widgets/controls",
      "_model_module_version": "1.5.0",
      "_model_name": "ProgressStyleModel",
      "_view_count": null,
      "_view_module": "@jupyter-widgets/base",
      "_view_module_version": "1.2.0",
      "_view_name": "StyleView",
      "bar_color": null,
      "description_width": "initial"
     }
    },
    "32844f5f089041d799cf9694650247a6": {
     "model_module": "@jupyter-widgets/base",
     "model_name": "LayoutModel",
     "state": {
      "_model_module": "@jupyter-widgets/base",
      "_model_module_version": "1.2.0",
      "_model_name": "LayoutModel",
      "_view_count": null,
      "_view_module": "@jupyter-widgets/base",
      "_view_module_version": "1.2.0",
      "_view_name": "LayoutView",
      "align_content": null,
      "align_items": null,
      "align_self": null,
      "border": null,
      "bottom": null,
      "display": null,
      "flex": null,
      "flex_flow": null,
      "grid_area": null,
      "grid_auto_columns": null,
      "grid_auto_flow": null,
      "grid_auto_rows": null,
      "grid_column": null,
      "grid_gap": null,
      "grid_row": null,
      "grid_template_areas": null,
      "grid_template_columns": null,
      "grid_template_rows": null,
      "height": null,
      "justify_content": null,
      "justify_items": null,
      "left": null,
      "margin": null,
      "max_height": null,
      "max_width": null,
      "min_height": null,
      "min_width": null,
      "object_fit": null,
      "object_position": null,
      "order": null,
      "overflow": null,
      "overflow_x": null,
      "overflow_y": null,
      "padding": null,
      "right": null,
      "top": null,
      "visibility": null,
      "width": null
     }
    },
    "372d8b727ab946baa641ec670f7e61c2": {
     "model_module": "@jupyter-widgets/base",
     "model_name": "LayoutModel",
     "state": {
      "_model_module": "@jupyter-widgets/base",
      "_model_module_version": "1.2.0",
      "_model_name": "LayoutModel",
      "_view_count": null,
      "_view_module": "@jupyter-widgets/base",
      "_view_module_version": "1.2.0",
      "_view_name": "LayoutView",
      "align_content": null,
      "align_items": null,
      "align_self": null,
      "border": null,
      "bottom": null,
      "display": null,
      "flex": null,
      "flex_flow": null,
      "grid_area": null,
      "grid_auto_columns": null,
      "grid_auto_flow": null,
      "grid_auto_rows": null,
      "grid_column": null,
      "grid_gap": null,
      "grid_row": null,
      "grid_template_areas": null,
      "grid_template_columns": null,
      "grid_template_rows": null,
      "height": null,
      "justify_content": null,
      "justify_items": null,
      "left": null,
      "margin": null,
      "max_height": null,
      "max_width": null,
      "min_height": null,
      "min_width": null,
      "object_fit": null,
      "object_position": null,
      "order": null,
      "overflow": null,
      "overflow_x": null,
      "overflow_y": null,
      "padding": null,
      "right": null,
      "top": null,
      "visibility": null,
      "width": null
     }
    },
    "49cdb8c6ec8a4bb8b21939079cd8c814": {
     "model_module": "@jupyter-widgets/controls",
     "model_name": "DescriptionStyleModel",
     "state": {
      "_model_module": "@jupyter-widgets/controls",
      "_model_module_version": "1.5.0",
      "_model_name": "DescriptionStyleModel",
      "_view_count": null,
      "_view_module": "@jupyter-widgets/base",
      "_view_module_version": "1.2.0",
      "_view_name": "StyleView",
      "description_width": ""
     }
    },
    "79b0b5b78b634109abb97d909b09fcae": {
     "model_module": "@jupyter-widgets/controls",
     "model_name": "HBoxModel",
     "state": {
      "_dom_classes": [],
      "_model_module": "@jupyter-widgets/controls",
      "_model_module_version": "1.5.0",
      "_model_name": "HBoxModel",
      "_view_count": null,
      "_view_module": "@jupyter-widgets/controls",
      "_view_module_version": "1.5.0",
      "_view_name": "HBoxView",
      "box_style": "",
      "children": [
       "IPY_MODEL_ca7d66ff79ef4659a31267b6c9dc33fa",
       "IPY_MODEL_c44c2ac326ab4f7687d935863b304d64"
      ],
      "layout": "IPY_MODEL_372d8b727ab946baa641ec670f7e61c2"
     }
    },
    "856a2fe104e3446ca8bba5e39cef07f7": {
     "model_module": "@jupyter-widgets/controls",
     "model_name": "ProgressStyleModel",
     "state": {
      "_model_module": "@jupyter-widgets/controls",
      "_model_module_version": "1.5.0",
      "_model_name": "ProgressStyleModel",
      "_view_count": null,
      "_view_module": "@jupyter-widgets/base",
      "_view_module_version": "1.2.0",
      "_view_name": "StyleView",
      "bar_color": null,
      "description_width": "initial"
     }
    },
    "8c78f69763dd4bb78429c89db96cd013": {
     "model_module": "@jupyter-widgets/controls",
     "model_name": "HBoxModel",
     "state": {
      "_dom_classes": [],
      "_model_module": "@jupyter-widgets/controls",
      "_model_module_version": "1.5.0",
      "_model_name": "HBoxModel",
      "_view_count": null,
      "_view_module": "@jupyter-widgets/controls",
      "_view_module_version": "1.5.0",
      "_view_name": "HBoxView",
      "box_style": "",
      "children": [
       "IPY_MODEL_8db92e8851044827b81582a9640e64e5",
       "IPY_MODEL_95472f67414048a89a028ccad8958955"
      ],
      "layout": "IPY_MODEL_d2a282f450f0451db3fe88858c964393"
     }
    },
    "8db92e8851044827b81582a9640e64e5": {
     "model_module": "@jupyter-widgets/controls",
     "model_name": "FloatProgressModel",
     "state": {
      "_dom_classes": [],
      "_model_module": "@jupyter-widgets/controls",
      "_model_module_version": "1.5.0",
      "_model_name": "FloatProgressModel",
      "_view_count": null,
      "_view_module": "@jupyter-widgets/controls",
      "_view_module_version": "1.5.0",
      "_view_name": "ProgressView",
      "bar_style": "success",
      "description": "Downloading: 100%",
      "description_tooltip": null,
      "layout": "IPY_MODEL_32844f5f089041d799cf9694650247a6",
      "max": 442,
      "min": 0,
      "orientation": "horizontal",
      "style": "IPY_MODEL_2557e76ed4c54d0681894192ebdcd5c7",
      "value": 442
     }
    },
    "95472f67414048a89a028ccad8958955": {
     "model_module": "@jupyter-widgets/controls",
     "model_name": "HTMLModel",
     "state": {
      "_dom_classes": [],
      "_model_module": "@jupyter-widgets/controls",
      "_model_module_version": "1.5.0",
      "_model_name": "HTMLModel",
      "_view_count": null,
      "_view_module": "@jupyter-widgets/controls",
      "_view_module_version": "1.5.0",
      "_view_name": "HTMLView",
      "description": "",
      "description_tooltip": null,
      "layout": "IPY_MODEL_e5fca0210ebf463da45abfb913a88522",
      "placeholder": "​",
      "style": "IPY_MODEL_baed5802e64e4f61afa82b4581262530",
      "value": " 442/442 [00:26&lt;00:00, 17.0B/s]"
     }
    },
    "963dd56df012493797142d65a35e0024": {
     "model_module": "@jupyter-widgets/controls",
     "model_name": "DescriptionStyleModel",
     "state": {
      "_model_module": "@jupyter-widgets/controls",
      "_model_module_version": "1.5.0",
      "_model_name": "DescriptionStyleModel",
      "_view_count": null,
      "_view_module": "@jupyter-widgets/base",
      "_view_module_version": "1.2.0",
      "_view_name": "StyleView",
      "description_width": ""
     }
    },
    "9d2814a528d84ec9bb0a8783e2232b19": {
     "model_module": "@jupyter-widgets/controls",
     "model_name": "FloatProgressModel",
     "state": {
      "_dom_classes": [],
      "_model_module": "@jupyter-widgets/controls",
      "_model_module_version": "1.5.0",
      "_model_name": "FloatProgressModel",
      "_view_count": null,
      "_view_module": "@jupyter-widgets/controls",
      "_view_module_version": "1.5.0",
      "_view_name": "ProgressView",
      "bar_style": "success",
      "description": "Downloading: 100%",
      "description_tooltip": null,
      "layout": "IPY_MODEL_fb794ce5431a43e08c183132d283fe02",
      "max": 267967963,
      "min": 0,
      "orientation": "horizontal",
      "style": "IPY_MODEL_9e9ad2046c194e95b89baa316222a446",
      "value": 267967963
     }
    },
    "9e9ad2046c194e95b89baa316222a446": {
     "model_module": "@jupyter-widgets/controls",
     "model_name": "ProgressStyleModel",
     "state": {
      "_model_module": "@jupyter-widgets/controls",
      "_model_module_version": "1.5.0",
      "_model_name": "ProgressStyleModel",
      "_view_count": null,
      "_view_module": "@jupyter-widgets/base",
      "_view_module_version": "1.2.0",
      "_view_name": "StyleView",
      "bar_color": null,
      "description_width": "initial"
     }
    },
    "adb2ecded00547da8759ad135602ec44": {
     "model_module": "@jupyter-widgets/base",
     "model_name": "LayoutModel",
     "state": {
      "_model_module": "@jupyter-widgets/base",
      "_model_module_version": "1.2.0",
      "_model_name": "LayoutModel",
      "_view_count": null,
      "_view_module": "@jupyter-widgets/base",
      "_view_module_version": "1.2.0",
      "_view_name": "LayoutView",
      "align_content": null,
      "align_items": null,
      "align_self": null,
      "border": null,
      "bottom": null,
      "display": null,
      "flex": null,
      "flex_flow": null,
      "grid_area": null,
      "grid_auto_columns": null,
      "grid_auto_flow": null,
      "grid_auto_rows": null,
      "grid_column": null,
      "grid_gap": null,
      "grid_row": null,
      "grid_template_areas": null,
      "grid_template_columns": null,
      "grid_template_rows": null,
      "height": null,
      "justify_content": null,
      "justify_items": null,
      "left": null,
      "margin": null,
      "max_height": null,
      "max_width": null,
      "min_height": null,
      "min_width": null,
      "object_fit": null,
      "object_position": null,
      "order": null,
      "overflow": null,
      "overflow_x": null,
      "overflow_y": null,
      "padding": null,
      "right": null,
      "top": null,
      "visibility": null,
      "width": null
     }
    },
    "b21e7121d3b24905bf9e4a717cad6561": {
     "model_module": "@jupyter-widgets/base",
     "model_name": "LayoutModel",
     "state": {
      "_model_module": "@jupyter-widgets/base",
      "_model_module_version": "1.2.0",
      "_model_name": "LayoutModel",
      "_view_count": null,
      "_view_module": "@jupyter-widgets/base",
      "_view_module_version": "1.2.0",
      "_view_name": "LayoutView",
      "align_content": null,
      "align_items": null,
      "align_self": null,
      "border": null,
      "bottom": null,
      "display": null,
      "flex": null,
      "flex_flow": null,
      "grid_area": null,
      "grid_auto_columns": null,
      "grid_auto_flow": null,
      "grid_auto_rows": null,
      "grid_column": null,
      "grid_gap": null,
      "grid_row": null,
      "grid_template_areas": null,
      "grid_template_columns": null,
      "grid_template_rows": null,
      "height": null,
      "justify_content": null,
      "justify_items": null,
      "left": null,
      "margin": null,
      "max_height": null,
      "max_width": null,
      "min_height": null,
      "min_width": null,
      "object_fit": null,
      "object_position": null,
      "order": null,
      "overflow": null,
      "overflow_x": null,
      "overflow_y": null,
      "padding": null,
      "right": null,
      "top": null,
      "visibility": null,
      "width": null
     }
    },
    "baed5802e64e4f61afa82b4581262530": {
     "model_module": "@jupyter-widgets/controls",
     "model_name": "DescriptionStyleModel",
     "state": {
      "_model_module": "@jupyter-widgets/controls",
      "_model_module_version": "1.5.0",
      "_model_name": "DescriptionStyleModel",
      "_view_count": null,
      "_view_module": "@jupyter-widgets/base",
      "_view_module_version": "1.2.0",
      "_view_name": "StyleView",
      "description_width": ""
     }
    },
    "bfe76d0a905c496fa4091d85c5e59435": {
     "model_module": "@jupyter-widgets/controls",
     "model_name": "HTMLModel",
     "state": {
      "_dom_classes": [],
      "_model_module": "@jupyter-widgets/controls",
      "_model_module_version": "1.5.0",
      "_model_name": "HTMLModel",
      "_view_count": null,
      "_view_module": "@jupyter-widgets/controls",
      "_view_module_version": "1.5.0",
      "_view_name": "HTMLView",
      "description": "",
      "description_tooltip": null,
      "layout": "IPY_MODEL_24bd5aea3817498ba588176c1fe1acc3",
      "placeholder": "​",
      "style": "IPY_MODEL_49cdb8c6ec8a4bb8b21939079cd8c814",
      "value": " 268M/268M [00:25&lt;00:00, 10.4MB/s]"
     }
    },
    "c44c2ac326ab4f7687d935863b304d64": {
     "model_module": "@jupyter-widgets/controls",
     "model_name": "HTMLModel",
     "state": {
      "_dom_classes": [],
      "_model_module": "@jupyter-widgets/controls",
      "_model_module_version": "1.5.0",
      "_model_name": "HTMLModel",
      "_view_count": null,
      "_view_module": "@jupyter-widgets/controls",
      "_view_module_version": "1.5.0",
      "_view_name": "HTMLView",
      "description": "",
      "description_tooltip": null,
      "layout": "IPY_MODEL_0cd9fc8e24284a6bb4d0569a5efcc376",
      "placeholder": "​",
      "style": "IPY_MODEL_963dd56df012493797142d65a35e0024",
      "value": " 232k/232k [00:00&lt;00:00, 1.52MB/s]"
     }
    },
    "ca7d66ff79ef4659a31267b6c9dc33fa": {
     "model_module": "@jupyter-widgets/controls",
     "model_name": "FloatProgressModel",
     "state": {
      "_dom_classes": [],
      "_model_module": "@jupyter-widgets/controls",
      "_model_module_version": "1.5.0",
      "_model_name": "FloatProgressModel",
      "_view_count": null,
      "_view_module": "@jupyter-widgets/controls",
      "_view_module_version": "1.5.0",
      "_view_name": "ProgressView",
      "bar_style": "success",
      "description": "Downloading: 100%",
      "description_tooltip": null,
      "layout": "IPY_MODEL_b21e7121d3b24905bf9e4a717cad6561",
      "max": 231508,
      "min": 0,
      "orientation": "horizontal",
      "style": "IPY_MODEL_856a2fe104e3446ca8bba5e39cef07f7",
      "value": 231508
     }
    },
    "d2a282f450f0451db3fe88858c964393": {
     "model_module": "@jupyter-widgets/base",
     "model_name": "LayoutModel",
     "state": {
      "_model_module": "@jupyter-widgets/base",
      "_model_module_version": "1.2.0",
      "_model_name": "LayoutModel",
      "_view_count": null,
      "_view_module": "@jupyter-widgets/base",
      "_view_module_version": "1.2.0",
      "_view_name": "LayoutView",
      "align_content": null,
      "align_items": null,
      "align_self": null,
      "border": null,
      "bottom": null,
      "display": null,
      "flex": null,
      "flex_flow": null,
      "grid_area": null,
      "grid_auto_columns": null,
      "grid_auto_flow": null,
      "grid_auto_rows": null,
      "grid_column": null,
      "grid_gap": null,
      "grid_row": null,
      "grid_template_areas": null,
      "grid_template_columns": null,
      "grid_template_rows": null,
      "height": null,
      "justify_content": null,
      "justify_items": null,
      "left": null,
      "margin": null,
      "max_height": null,
      "max_width": null,
      "min_height": null,
      "min_width": null,
      "object_fit": null,
      "object_position": null,
      "order": null,
      "overflow": null,
      "overflow_x": null,
      "overflow_y": null,
      "padding": null,
      "right": null,
      "top": null,
      "visibility": null,
      "width": null
     }
    },
    "e5fca0210ebf463da45abfb913a88522": {
     "model_module": "@jupyter-widgets/base",
     "model_name": "LayoutModel",
     "state": {
      "_model_module": "@jupyter-widgets/base",
      "_model_module_version": "1.2.0",
      "_model_name": "LayoutModel",
      "_view_count": null,
      "_view_module": "@jupyter-widgets/base",
      "_view_module_version": "1.2.0",
      "_view_name": "LayoutView",
      "align_content": null,
      "align_items": null,
      "align_self": null,
      "border": null,
      "bottom": null,
      "display": null,
      "flex": null,
      "flex_flow": null,
      "grid_area": null,
      "grid_auto_columns": null,
      "grid_auto_flow": null,
      "grid_auto_rows": null,
      "grid_column": null,
      "grid_gap": null,
      "grid_row": null,
      "grid_template_areas": null,
      "grid_template_columns": null,
      "grid_template_rows": null,
      "height": null,
      "justify_content": null,
      "justify_items": null,
      "left": null,
      "margin": null,
      "max_height": null,
      "max_width": null,
      "min_height": null,
      "min_width": null,
      "object_fit": null,
      "object_position": null,
      "order": null,
      "overflow": null,
      "overflow_x": null,
      "overflow_y": null,
      "padding": null,
      "right": null,
      "top": null,
      "visibility": null,
      "width": null
     }
    },
    "fb794ce5431a43e08c183132d283fe02": {
     "model_module": "@jupyter-widgets/base",
     "model_name": "LayoutModel",
     "state": {
      "_model_module": "@jupyter-widgets/base",
      "_model_module_version": "1.2.0",
      "_model_name": "LayoutModel",
      "_view_count": null,
      "_view_module": "@jupyter-widgets/base",
      "_view_module_version": "1.2.0",
      "_view_name": "LayoutView",
      "align_content": null,
      "align_items": null,
      "align_self": null,
      "border": null,
      "bottom": null,
      "display": null,
      "flex": null,
      "flex_flow": null,
      "grid_area": null,
      "grid_auto_columns": null,
      "grid_auto_flow": null,
      "grid_auto_rows": null,
      "grid_column": null,
      "grid_gap": null,
      "grid_row": null,
      "grid_template_areas": null,
      "grid_template_columns": null,
      "grid_template_rows": null,
      "height": null,
      "justify_content": null,
      "justify_items": null,
      "left": null,
      "margin": null,
      "max_height": null,
      "max_width": null,
      "min_height": null,
      "min_width": null,
      "object_fit": null,
      "object_position": null,
      "order": null,
      "overflow": null,
      "overflow_x": null,
      "overflow_y": null,
      "padding": null,
      "right": null,
      "top": null,
      "visibility": null,
      "width": null
     }
    }
   }
  }
 },
 "nbformat": 4,
 "nbformat_minor": 1
}
